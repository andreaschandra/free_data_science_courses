{
 "cells": [
  {
   "cell_type": "markdown",
   "metadata": {},
   "source": [
    "# Data Manipulation using Pandas"
   ]
  },
  {
   "cell_type": "markdown",
   "metadata": {},
   "source": [
    "Author: Andreas Chandra \\\n",
    "[Email](mailto:andreas@jakartaresearch.com) [Github](https://github.com/andreaschandra) [Blog](https://datafolksid.xyz/andreas) \\\n",
    "If you want to talk with me, proposed schedule [here](https://calendly.com/andreaschandra/)"
   ]
  },
  {
   "cell_type": "markdown",
   "metadata": {},
   "source": [
    "## Contents"
   ]
  },
  {
   "cell_type": "markdown",
   "metadata": {},
   "source": [
    "Day 4\n",
    "- Brief of Timeseries\n",
    "- Window Function\n",
    "- Basic Plotting"
   ]
  },
  {
   "cell_type": "markdown",
   "metadata": {},
   "source": [
    "## Day 4"
   ]
  },
  {
   "cell_type": "code",
   "execution_count": null,
   "metadata": {},
   "outputs": [],
   "source": [
    "import pandas as pd"
   ]
  },
  {
   "cell_type": "code",
   "execution_count": null,
   "metadata": {},
   "outputs": [],
   "source": [
    "pd.read_csv(\"telcom_user_extended_day4.csv\")"
   ]
  },
  {
   "cell_type": "markdown",
   "metadata": {},
   "source": [
    "### Datetime"
   ]
  },
  {
   "cell_type": "markdown",
   "metadata": {},
   "source": [
    "1. String to datetime format"
   ]
  },
  {
   "cell_type": "code",
   "execution_count": null,
   "metadata": {},
   "outputs": [],
   "source": [
    "d_data['RecordedDate'].head()"
   ]
  },
  {
   "cell_type": "code",
   "execution_count": null,
   "metadata": {},
   "outputs": [],
   "source": [
    "## YYYY-MM-DD\n",
    "d_data['RecordedDate_updated'] = pd.to_datetime(d_data['RecordedDate'])\n",
    "d_data['RecordedDate_updated'].head()"
   ]
  },
  {
   "cell_type": "markdown",
   "metadata": {},
   "source": [
    "2. Datetime to string format"
   ]
  },
  {
   "cell_type": "code",
   "execution_count": null,
   "metadata": {},
   "outputs": [],
   "source": [
    "## MM-DD-YYYY\n",
    "d_data['RecordedDate_updated_2'] = d_data['RecordedDate_updated'].dt.strftime('%m-%d-%Y')\n",
    "d_data['RecordedDate_updated_2'].head()"
   ]
  },
  {
   "cell_type": "code",
   "execution_count": null,
   "metadata": {},
   "outputs": [],
   "source": [
    "## MM/DD/YYYY\n",
    "d_data['RecordedDate_updated_3'] = d_data['RecordedDate_updated'].dt.strftime('%m/%d/%Y')\n",
    "d_data['RecordedDate_updated_3'].head()"
   ]
  },
  {
   "cell_type": "markdown",
   "metadata": {},
   "source": [
    "3. Timedelta"
   ]
  },
  {
   "cell_type": "markdown",
   "metadata": {},
   "source": [
    "The date units are years (‘Y’), months (‘M’), weeks (‘W’), and days (‘D’), while the time units are hours (‘h’), minutes (‘m’), seconds (‘s’), milliseconds (‘ms’)\n",
    "\n",
    "Source: https://numpy.org/doc/stable/reference/arrays.datetime.html"
   ]
  },
  {
   "cell_type": "code",
   "execution_count": null,
   "metadata": {},
   "outputs": [],
   "source": [
    "sample_time = d_data['RecordedDate_updated'][:2].values\n",
    "sample_time"
   ]
  },
  {
   "cell_type": "code",
   "execution_count": null,
   "metadata": {},
   "outputs": [],
   "source": [
    "# Time delta is in nano seconds (10^9 seconds), but it seems too high, let us change the units...\n",
    "\n",
    "timedelta = sample_time[1] - sample_time[0]\n",
    "timedelta"
   ]
  },
  {
   "cell_type": "code",
   "execution_count": null,
   "metadata": {},
   "outputs": [],
   "source": [
    "# Time delta in days\n",
    "\n",
    "timedelta_days = timedelta.astype('timedelta64[D]')\n",
    "timedelta_days"
   ]
  },
  {
   "cell_type": "code",
   "execution_count": null,
   "metadata": {},
   "outputs": [],
   "source": [
    "# Time delta in weeks\n",
    "\n",
    "timedelta_weeks = timedelta.astype('timedelta64[W]')\n",
    "timedelta_weeks"
   ]
  },
  {
   "cell_type": "markdown",
   "metadata": {},
   "source": [
    "4. Timezone"
   ]
  },
  {
   "cell_type": "code",
   "execution_count": null,
   "metadata": {},
   "outputs": [],
   "source": [
    "import pytz\n",
    "import datetime"
   ]
  },
  {
   "cell_type": "code",
   "execution_count": null,
   "metadata": {},
   "outputs": [],
   "source": [
    "pytz.all_timezones"
   ]
  },
  {
   "cell_type": "code",
   "execution_count": null,
   "metadata": {},
   "outputs": [],
   "source": [
    "# You can now see the +07 timezone set to Jakarta time\n",
    "d_data['RecordedDate_updated'].dt.tz_localize('Asia/Jakarta')"
   ]
  },
  {
   "cell_type": "code",
   "execution_count": null,
   "metadata": {},
   "outputs": [],
   "source": [
    "# Lets change to Kuala Lumpur +08 time\n",
    "d_data['RecordedDate_updated'].dt.tz_localize('Asia/Jakarta').dt.tz_convert('Asia/Kuala_Lumpur')"
   ]
  },
  {
   "cell_type": "markdown",
   "metadata": {},
   "source": [
    "### Brief Timeseries"
   ]
  },
  {
   "cell_type": "markdown",
   "metadata": {},
   "source": [
    "Resampling"
   ]
  },
  {
   "cell_type": "code",
   "execution_count": null,
   "metadata": {},
   "outputs": [],
   "source": [
    "# Using the datetime as index first...\n",
    "dt_data = d_data.set_index('RecordedDate_updated')\n",
    "dt_data.head()"
   ]
  },
  {
   "cell_type": "code",
   "execution_count": null,
   "metadata": {},
   "outputs": [],
   "source": [
    "# Sum monthly charges \n",
    "dt_data['MonthlyCharges'].resample(\"1M\").sum()"
   ]
  },
  {
   "cell_type": "code",
   "execution_count": null,
   "metadata": {},
   "outputs": [],
   "source": [
    "# Mean monthly Netflix usage (in MB) \n",
    "dt_data['netflix_usage_megabytes'].resample(\"1M\").mean()"
   ]
  },
  {
   "cell_type": "code",
   "execution_count": null,
   "metadata": {},
   "outputs": [],
   "source": [
    "# Min monthly internet speed  \n",
    "dt_data['average_internet_speed_in_megabytes'].resample(\"1M\").min()"
   ]
  },
  {
   "cell_type": "code",
   "execution_count": null,
   "metadata": {},
   "outputs": [],
   "source": [
    "# Min daily internet speed  \n",
    "dt_data['average_internet_speed_in_megabytes'].resample(\"1D\").min()"
   ]
  },
  {
   "cell_type": "code",
   "execution_count": null,
   "metadata": {
    "scrolled": true
   },
   "outputs": [],
   "source": [
    "# Min daily internet speed  \n",
    "dt_data['average_internet_speed_in_megabytes'].resample(\"1D\").min().dropna()"
   ]
  },
  {
   "cell_type": "markdown",
   "metadata": {},
   "source": [
    "Aggregates"
   ]
  },
  {
   "cell_type": "code",
   "execution_count": null,
   "metadata": {},
   "outputs": [],
   "source": [
    "# Comparing internet speed with monthly charges\n",
    "dt_data[['average_internet_speed_in_megabytes', 'MonthlyCharges']].resample(\"1M\").min().head()\n",
    "\n",
    "## Seems like when internet speed increases, the users pay more for their monthly charges"
   ]
  },
  {
   "cell_type": "markdown",
   "metadata": {},
   "source": [
    "### Window Functions"
   ]
  },
  {
   "cell_type": "markdown",
   "metadata": {},
   "source": [
    "Basic Rolling window\n",
    "\n",
    "Source: https://pandas.pydata.org/pandas-docs/stable/reference/window.html"
   ]
  },
  {
   "cell_type": "code",
   "execution_count": null,
   "metadata": {},
   "outputs": [],
   "source": [
    "# Rolling Sum of monthly Netflix usage (in MB) - 2 months\n",
    "monthly_netflix = dt_data['netflix_usage_megabytes'].resample(\"1M\").mean()\n",
    "\n",
    "monthly_netflix.rolling(2).sum().head()"
   ]
  },
  {
   "cell_type": "code",
   "execution_count": null,
   "metadata": {},
   "outputs": [],
   "source": [
    "# Rolling mean of monthly Netflix usage (in MB) - 2 months\n",
    "monthly_netflix.rolling(2).mean().head()"
   ]
  },
  {
   "cell_type": "markdown",
   "metadata": {},
   "source": [
    "### Basic Plotting"
   ]
  },
  {
   "cell_type": "markdown",
   "metadata": {},
   "source": [
    "- Line\n",
    "- Title\n",
    "- XY axis label\n",
    "- Styling (color, shape)"
   ]
  },
  {
   "cell_type": "code",
   "execution_count": null,
   "metadata": {},
   "outputs": [],
   "source": [
    "# Basic plot\n",
    "monthly_netflix.plot()"
   ]
  },
  {
   "cell_type": "code",
   "execution_count": null,
   "metadata": {},
   "outputs": [],
   "source": [
    "# Lets give title\n",
    "\n",
    "monthly_netflix.plot(title=\"Monthly netflix usage in MB\", y=\"Hi\")"
   ]
  },
  {
   "cell_type": "code",
   "execution_count": null,
   "metadata": {},
   "outputs": [],
   "source": [
    "# Lets give the x-axis and y-axis label\n",
    "\n",
    "ax = monthly_netflix.plot(title=\"Monthly netflix usage in MB\")\n",
    "ax.set_xlabel(\"Months\")\n",
    "ax.set_ylabel(\"Netflix Usage in MB\")"
   ]
  },
  {
   "cell_type": "code",
   "execution_count": null,
   "metadata": {},
   "outputs": [],
   "source": [
    "ax = monthly_netflix.plot(title=\"Monthly netflix usage in MB\")\n",
    "ax.set_xlabel(\"Months\")\n",
    "ax.set_ylabel(\"Netflix Usage in MB\")\n",
    "\n",
    "# Styling\n",
    "ax.get_lines()[0].set_color(\"red\")"
   ]
  },
  {
   "cell_type": "markdown",
   "metadata": {},
   "source": [
    "### Exercise"
   ]
  },
  {
   "cell_type": "markdown",
   "metadata": {},
   "source": [
    "1. Change RecordedDate to this format: YYYY-MM-DD in 'RecordedDate_updated_exercise' column\n",
    "ANS: d_data['RecordedDate_updated_exercise'] = d_data['RecordedDate_updated'].dt.strftime('%Y-%m-%d')\n",
    "2. Set timedelta to 2 Days format\n",
    "ANS: timedelta_2days = timedelta.astype('timedelta64[2D]')\n",
    "3. Set the rolling mean of netflix from 2 months to 3 months\n",
    "ANS: monthly_netflix.rolling(3).mean()\n",
    "4. Change the line color to green\n",
    "ANS: \n",
    "'''\n",
    "ax = monthly_netflix.plot(title=\"Monthly netflix usage in MB\")\n",
    "ax.set_xlabel(\"Months\")\n",
    "ax.set_ylabel(\"Netflix Usage in MB\")\n",
    "ax.get_lines()[0].set_color(\"green\")\n",
    "'''"
   ]
  },
  {
   "cell_type": "code",
   "execution_count": null,
   "metadata": {},
   "outputs": [],
   "source": []
  }
 ],
 "metadata": {
  "kernelspec": {
   "display_name": "Python 3",
   "language": "python",
   "name": "python3"
  },
  "language_info": {
   "codemirror_mode": {
    "name": "ipython",
    "version": 3
   },
   "file_extension": ".py",
   "mimetype": "text/x-python",
   "name": "python",
   "nbconvert_exporter": "python",
   "pygments_lexer": "ipython3",
   "version": "3.7.3"
  }
 },
 "nbformat": 4,
 "nbformat_minor": 4
}

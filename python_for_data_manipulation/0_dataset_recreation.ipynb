{
 "cells": [
  {
   "cell_type": "code",
   "execution_count": 1,
   "id": "extraordinary-addiction",
   "metadata": {},
   "outputs": [],
   "source": [
    "import re\n",
    "import string\n",
    "\n",
    "import pandas as pd\n",
    "import numpy as np\n",
    "import seaborn as sns"
   ]
  },
  {
   "cell_type": "code",
   "execution_count": 2,
   "id": "matched-negative",
   "metadata": {},
   "outputs": [],
   "source": [
    "pd.options.display.max_columns = 100"
   ]
  },
  {
   "cell_type": "code",
   "execution_count": 3,
   "id": "innovative-roommate",
   "metadata": {},
   "outputs": [],
   "source": [
    "d_data = pd.read_csv(\"telecom_users.csv\")"
   ]
  },
  {
   "cell_type": "code",
   "execution_count": 4,
   "id": "undefined-montreal",
   "metadata": {},
   "outputs": [
    {
     "data": {
      "text/plain": [
       "(5986, 21)"
      ]
     },
     "execution_count": 4,
     "metadata": {},
     "output_type": "execute_result"
    }
   ],
   "source": [
    "d_data.shape"
   ]
  },
  {
   "cell_type": "code",
   "execution_count": 5,
   "id": "august-pastor",
   "metadata": {},
   "outputs": [
    {
     "data": {
      "text/plain": [
       "customerID           object\n",
       "gender               object\n",
       "SeniorCitizen         int64\n",
       "Partner              object\n",
       "Dependents           object\n",
       "tenure                int64\n",
       "PhoneService         object\n",
       "MultipleLines        object\n",
       "InternetService      object\n",
       "OnlineSecurity       object\n",
       "OnlineBackup         object\n",
       "DeviceProtection     object\n",
       "TechSupport          object\n",
       "StreamingTV          object\n",
       "StreamingMovies      object\n",
       "Contract             object\n",
       "PaperlessBilling     object\n",
       "PaymentMethod        object\n",
       "MonthlyCharges      float64\n",
       "TotalCharges         object\n",
       "Churn                object\n",
       "dtype: object"
      ]
     },
     "execution_count": 5,
     "metadata": {},
     "output_type": "execute_result"
    }
   ],
   "source": [
    "d_data.dtypes"
   ]
  },
  {
   "cell_type": "code",
   "execution_count": 6,
   "id": "minor-prime",
   "metadata": {},
   "outputs": [
    {
     "data": {
      "text/html": [
       "<div>\n",
       "<style scoped>\n",
       "    .dataframe tbody tr th:only-of-type {\n",
       "        vertical-align: middle;\n",
       "    }\n",
       "\n",
       "    .dataframe tbody tr th {\n",
       "        vertical-align: top;\n",
       "    }\n",
       "\n",
       "    .dataframe thead th {\n",
       "        text-align: right;\n",
       "    }\n",
       "</style>\n",
       "<table border=\"1\" class=\"dataframe\">\n",
       "  <thead>\n",
       "    <tr style=\"text-align: right;\">\n",
       "      <th></th>\n",
       "      <th>customerID</th>\n",
       "      <th>gender</th>\n",
       "      <th>SeniorCitizen</th>\n",
       "      <th>Partner</th>\n",
       "      <th>Dependents</th>\n",
       "      <th>tenure</th>\n",
       "      <th>PhoneService</th>\n",
       "      <th>MultipleLines</th>\n",
       "      <th>InternetService</th>\n",
       "      <th>OnlineSecurity</th>\n",
       "      <th>OnlineBackup</th>\n",
       "      <th>DeviceProtection</th>\n",
       "      <th>TechSupport</th>\n",
       "      <th>StreamingTV</th>\n",
       "      <th>StreamingMovies</th>\n",
       "      <th>Contract</th>\n",
       "      <th>PaperlessBilling</th>\n",
       "      <th>PaymentMethod</th>\n",
       "      <th>MonthlyCharges</th>\n",
       "      <th>TotalCharges</th>\n",
       "      <th>Churn</th>\n",
       "    </tr>\n",
       "  </thead>\n",
       "  <tbody>\n",
       "    <tr>\n",
       "      <th>0</th>\n",
       "      <td>7010-BRBUU</td>\n",
       "      <td>Male</td>\n",
       "      <td>0</td>\n",
       "      <td>Yes</td>\n",
       "      <td>Yes</td>\n",
       "      <td>72</td>\n",
       "      <td>Yes</td>\n",
       "      <td>Yes</td>\n",
       "      <td>No</td>\n",
       "      <td>No internet service</td>\n",
       "      <td>No internet service</td>\n",
       "      <td>No internet service</td>\n",
       "      <td>No internet service</td>\n",
       "      <td>No internet service</td>\n",
       "      <td>No internet service</td>\n",
       "      <td>Two year</td>\n",
       "      <td>No</td>\n",
       "      <td>Credit card (automatic)</td>\n",
       "      <td>24.10</td>\n",
       "      <td>1734.65</td>\n",
       "      <td>No</td>\n",
       "    </tr>\n",
       "    <tr>\n",
       "      <th>1</th>\n",
       "      <td>9688-YGXVR</td>\n",
       "      <td>Female</td>\n",
       "      <td>0</td>\n",
       "      <td>No</td>\n",
       "      <td>No</td>\n",
       "      <td>44</td>\n",
       "      <td>Yes</td>\n",
       "      <td>No</td>\n",
       "      <td>Fiber optic</td>\n",
       "      <td>No</td>\n",
       "      <td>Yes</td>\n",
       "      <td>Yes</td>\n",
       "      <td>No</td>\n",
       "      <td>Yes</td>\n",
       "      <td>No</td>\n",
       "      <td>Month-to-month</td>\n",
       "      <td>Yes</td>\n",
       "      <td>Credit card (automatic)</td>\n",
       "      <td>88.15</td>\n",
       "      <td>3973.2</td>\n",
       "      <td>No</td>\n",
       "    </tr>\n",
       "    <tr>\n",
       "      <th>2</th>\n",
       "      <td>9286-DOJGF</td>\n",
       "      <td>Female</td>\n",
       "      <td>1</td>\n",
       "      <td>Yes</td>\n",
       "      <td>No</td>\n",
       "      <td>38</td>\n",
       "      <td>Yes</td>\n",
       "      <td>Yes</td>\n",
       "      <td>Fiber optic</td>\n",
       "      <td>No</td>\n",
       "      <td>No</td>\n",
       "      <td>No</td>\n",
       "      <td>No</td>\n",
       "      <td>No</td>\n",
       "      <td>No</td>\n",
       "      <td>Month-to-month</td>\n",
       "      <td>Yes</td>\n",
       "      <td>Bank transfer (automatic)</td>\n",
       "      <td>74.95</td>\n",
       "      <td>2869.85</td>\n",
       "      <td>Yes</td>\n",
       "    </tr>\n",
       "    <tr>\n",
       "      <th>3</th>\n",
       "      <td>6994-KERXL</td>\n",
       "      <td>Male</td>\n",
       "      <td>0</td>\n",
       "      <td>No</td>\n",
       "      <td>No</td>\n",
       "      <td>4</td>\n",
       "      <td>Yes</td>\n",
       "      <td>No</td>\n",
       "      <td>DSL</td>\n",
       "      <td>No</td>\n",
       "      <td>No</td>\n",
       "      <td>No</td>\n",
       "      <td>No</td>\n",
       "      <td>No</td>\n",
       "      <td>Yes</td>\n",
       "      <td>Month-to-month</td>\n",
       "      <td>Yes</td>\n",
       "      <td>Electronic check</td>\n",
       "      <td>55.90</td>\n",
       "      <td>238.5</td>\n",
       "      <td>No</td>\n",
       "    </tr>\n",
       "    <tr>\n",
       "      <th>4</th>\n",
       "      <td>2181-UAESM</td>\n",
       "      <td>Male</td>\n",
       "      <td>0</td>\n",
       "      <td>No</td>\n",
       "      <td>No</td>\n",
       "      <td>2</td>\n",
       "      <td>Yes</td>\n",
       "      <td>No</td>\n",
       "      <td>DSL</td>\n",
       "      <td>Yes</td>\n",
       "      <td>No</td>\n",
       "      <td>Yes</td>\n",
       "      <td>No</td>\n",
       "      <td>No</td>\n",
       "      <td>No</td>\n",
       "      <td>Month-to-month</td>\n",
       "      <td>No</td>\n",
       "      <td>Electronic check</td>\n",
       "      <td>53.45</td>\n",
       "      <td>119.5</td>\n",
       "      <td>No</td>\n",
       "    </tr>\n",
       "    <tr>\n",
       "      <th>...</th>\n",
       "      <td>...</td>\n",
       "      <td>...</td>\n",
       "      <td>...</td>\n",
       "      <td>...</td>\n",
       "      <td>...</td>\n",
       "      <td>...</td>\n",
       "      <td>...</td>\n",
       "      <td>...</td>\n",
       "      <td>...</td>\n",
       "      <td>...</td>\n",
       "      <td>...</td>\n",
       "      <td>...</td>\n",
       "      <td>...</td>\n",
       "      <td>...</td>\n",
       "      <td>...</td>\n",
       "      <td>...</td>\n",
       "      <td>...</td>\n",
       "      <td>...</td>\n",
       "      <td>...</td>\n",
       "      <td>...</td>\n",
       "      <td>...</td>\n",
       "    </tr>\n",
       "    <tr>\n",
       "      <th>5981</th>\n",
       "      <td>0684-AOSIH</td>\n",
       "      <td>Male</td>\n",
       "      <td>0</td>\n",
       "      <td>Yes</td>\n",
       "      <td>No</td>\n",
       "      <td>1</td>\n",
       "      <td>Yes</td>\n",
       "      <td>No</td>\n",
       "      <td>Fiber optic</td>\n",
       "      <td>Yes</td>\n",
       "      <td>No</td>\n",
       "      <td>No</td>\n",
       "      <td>No</td>\n",
       "      <td>Yes</td>\n",
       "      <td>Yes</td>\n",
       "      <td>Month-to-month</td>\n",
       "      <td>Yes</td>\n",
       "      <td>Electronic check</td>\n",
       "      <td>95.00</td>\n",
       "      <td>95</td>\n",
       "      <td>Yes</td>\n",
       "    </tr>\n",
       "    <tr>\n",
       "      <th>5982</th>\n",
       "      <td>5982-PSMKW</td>\n",
       "      <td>Female</td>\n",
       "      <td>0</td>\n",
       "      <td>Yes</td>\n",
       "      <td>Yes</td>\n",
       "      <td>23</td>\n",
       "      <td>Yes</td>\n",
       "      <td>Yes</td>\n",
       "      <td>DSL</td>\n",
       "      <td>Yes</td>\n",
       "      <td>Yes</td>\n",
       "      <td>Yes</td>\n",
       "      <td>Yes</td>\n",
       "      <td>Yes</td>\n",
       "      <td>Yes</td>\n",
       "      <td>Two year</td>\n",
       "      <td>Yes</td>\n",
       "      <td>Credit card (automatic)</td>\n",
       "      <td>91.10</td>\n",
       "      <td>2198.3</td>\n",
       "      <td>No</td>\n",
       "    </tr>\n",
       "    <tr>\n",
       "      <th>5983</th>\n",
       "      <td>8044-BGWPI</td>\n",
       "      <td>Male</td>\n",
       "      <td>0</td>\n",
       "      <td>Yes</td>\n",
       "      <td>Yes</td>\n",
       "      <td>12</td>\n",
       "      <td>Yes</td>\n",
       "      <td>No</td>\n",
       "      <td>No</td>\n",
       "      <td>No internet service</td>\n",
       "      <td>No internet service</td>\n",
       "      <td>No internet service</td>\n",
       "      <td>No internet service</td>\n",
       "      <td>No internet service</td>\n",
       "      <td>No internet service</td>\n",
       "      <td>Month-to-month</td>\n",
       "      <td>Yes</td>\n",
       "      <td>Electronic check</td>\n",
       "      <td>21.15</td>\n",
       "      <td>306.05</td>\n",
       "      <td>No</td>\n",
       "    </tr>\n",
       "    <tr>\n",
       "      <th>5984</th>\n",
       "      <td>7450-NWRTR</td>\n",
       "      <td>Male</td>\n",
       "      <td>1</td>\n",
       "      <td>No</td>\n",
       "      <td>No</td>\n",
       "      <td>12</td>\n",
       "      <td>Yes</td>\n",
       "      <td>Yes</td>\n",
       "      <td>Fiber optic</td>\n",
       "      <td>No</td>\n",
       "      <td>No</td>\n",
       "      <td>Yes</td>\n",
       "      <td>No</td>\n",
       "      <td>Yes</td>\n",
       "      <td>Yes</td>\n",
       "      <td>Month-to-month</td>\n",
       "      <td>Yes</td>\n",
       "      <td>Electronic check</td>\n",
       "      <td>99.45</td>\n",
       "      <td>1200.15</td>\n",
       "      <td>Yes</td>\n",
       "    </tr>\n",
       "    <tr>\n",
       "      <th>5985</th>\n",
       "      <td>4795-UXVCJ</td>\n",
       "      <td>Male</td>\n",
       "      <td>0</td>\n",
       "      <td>No</td>\n",
       "      <td>No</td>\n",
       "      <td>26</td>\n",
       "      <td>Yes</td>\n",
       "      <td>No</td>\n",
       "      <td>No</td>\n",
       "      <td>No internet service</td>\n",
       "      <td>No internet service</td>\n",
       "      <td>No internet service</td>\n",
       "      <td>No internet service</td>\n",
       "      <td>No internet service</td>\n",
       "      <td>No internet service</td>\n",
       "      <td>One year</td>\n",
       "      <td>No</td>\n",
       "      <td>Credit card (automatic)</td>\n",
       "      <td>19.80</td>\n",
       "      <td>457.3</td>\n",
       "      <td>No</td>\n",
       "    </tr>\n",
       "  </tbody>\n",
       "</table>\n",
       "<p>5986 rows × 21 columns</p>\n",
       "</div>"
      ],
      "text/plain": [
       "      customerID  gender  SeniorCitizen Partner Dependents  tenure  \\\n",
       "0     7010-BRBUU    Male              0     Yes        Yes      72   \n",
       "1     9688-YGXVR  Female              0      No         No      44   \n",
       "2     9286-DOJGF  Female              1     Yes         No      38   \n",
       "3     6994-KERXL    Male              0      No         No       4   \n",
       "4     2181-UAESM    Male              0      No         No       2   \n",
       "...          ...     ...            ...     ...        ...     ...   \n",
       "5981  0684-AOSIH    Male              0     Yes         No       1   \n",
       "5982  5982-PSMKW  Female              0     Yes        Yes      23   \n",
       "5983  8044-BGWPI    Male              0     Yes        Yes      12   \n",
       "5984  7450-NWRTR    Male              1      No         No      12   \n",
       "5985  4795-UXVCJ    Male              0      No         No      26   \n",
       "\n",
       "     PhoneService MultipleLines InternetService       OnlineSecurity  \\\n",
       "0             Yes           Yes              No  No internet service   \n",
       "1             Yes            No     Fiber optic                   No   \n",
       "2             Yes           Yes     Fiber optic                   No   \n",
       "3             Yes            No             DSL                   No   \n",
       "4             Yes            No             DSL                  Yes   \n",
       "...           ...           ...             ...                  ...   \n",
       "5981          Yes            No     Fiber optic                  Yes   \n",
       "5982          Yes           Yes             DSL                  Yes   \n",
       "5983          Yes            No              No  No internet service   \n",
       "5984          Yes           Yes     Fiber optic                   No   \n",
       "5985          Yes            No              No  No internet service   \n",
       "\n",
       "             OnlineBackup     DeviceProtection          TechSupport  \\\n",
       "0     No internet service  No internet service  No internet service   \n",
       "1                     Yes                  Yes                   No   \n",
       "2                      No                   No                   No   \n",
       "3                      No                   No                   No   \n",
       "4                      No                  Yes                   No   \n",
       "...                   ...                  ...                  ...   \n",
       "5981                   No                   No                   No   \n",
       "5982                  Yes                  Yes                  Yes   \n",
       "5983  No internet service  No internet service  No internet service   \n",
       "5984                   No                  Yes                   No   \n",
       "5985  No internet service  No internet service  No internet service   \n",
       "\n",
       "              StreamingTV      StreamingMovies        Contract  \\\n",
       "0     No internet service  No internet service        Two year   \n",
       "1                     Yes                   No  Month-to-month   \n",
       "2                      No                   No  Month-to-month   \n",
       "3                      No                  Yes  Month-to-month   \n",
       "4                      No                   No  Month-to-month   \n",
       "...                   ...                  ...             ...   \n",
       "5981                  Yes                  Yes  Month-to-month   \n",
       "5982                  Yes                  Yes        Two year   \n",
       "5983  No internet service  No internet service  Month-to-month   \n",
       "5984                  Yes                  Yes  Month-to-month   \n",
       "5985  No internet service  No internet service        One year   \n",
       "\n",
       "     PaperlessBilling              PaymentMethod  MonthlyCharges TotalCharges  \\\n",
       "0                  No    Credit card (automatic)           24.10      1734.65   \n",
       "1                 Yes    Credit card (automatic)           88.15       3973.2   \n",
       "2                 Yes  Bank transfer (automatic)           74.95      2869.85   \n",
       "3                 Yes           Electronic check           55.90        238.5   \n",
       "4                  No           Electronic check           53.45        119.5   \n",
       "...               ...                        ...             ...          ...   \n",
       "5981              Yes           Electronic check           95.00           95   \n",
       "5982              Yes    Credit card (automatic)           91.10       2198.3   \n",
       "5983              Yes           Electronic check           21.15       306.05   \n",
       "5984              Yes           Electronic check           99.45      1200.15   \n",
       "5985               No    Credit card (automatic)           19.80        457.3   \n",
       "\n",
       "     Churn  \n",
       "0       No  \n",
       "1       No  \n",
       "2      Yes  \n",
       "3       No  \n",
       "4       No  \n",
       "...    ...  \n",
       "5981   Yes  \n",
       "5982    No  \n",
       "5983    No  \n",
       "5984   Yes  \n",
       "5985    No  \n",
       "\n",
       "[5986 rows x 21 columns]"
      ]
     },
     "execution_count": 6,
     "metadata": {},
     "output_type": "execute_result"
    }
   ],
   "source": [
    "d_data"
   ]
  },
  {
   "cell_type": "markdown",
   "id": "engaging-canadian",
   "metadata": {},
   "source": [
    "- Create few rows missing values in a feature"
   ]
  },
  {
   "cell_type": "code",
   "execution_count": 7,
   "id": "electric-degree",
   "metadata": {},
   "outputs": [],
   "source": [
    "d_data.loc[100:115, 'Partner'] = None"
   ]
  },
  {
   "cell_type": "code",
   "execution_count": 8,
   "id": "joint-allen",
   "metadata": {},
   "outputs": [],
   "source": [
    "d_data.loc[4000:4099, 'gender'] = None"
   ]
  },
  {
   "cell_type": "code",
   "execution_count": 9,
   "id": "tired-external",
   "metadata": {},
   "outputs": [
    {
     "data": {
      "text/plain": [
       "customerID            0\n",
       "gender              100\n",
       "SeniorCitizen         0\n",
       "Partner              16\n",
       "Dependents            0\n",
       "tenure                0\n",
       "PhoneService          0\n",
       "MultipleLines         0\n",
       "InternetService       0\n",
       "OnlineSecurity        0\n",
       "OnlineBackup          0\n",
       "DeviceProtection      0\n",
       "TechSupport           0\n",
       "StreamingTV           0\n",
       "StreamingMovies       0\n",
       "Contract              0\n",
       "PaperlessBilling      0\n",
       "PaymentMethod         0\n",
       "MonthlyCharges        0\n",
       "TotalCharges          0\n",
       "Churn                 0\n",
       "dtype: int64"
      ]
     },
     "execution_count": 9,
     "metadata": {},
     "output_type": "execute_result"
    }
   ],
   "source": [
    "d_data.isna().sum()"
   ]
  },
  {
   "cell_type": "markdown",
   "id": "boxed-october",
   "metadata": {},
   "source": [
    "- Create few rows to change data types"
   ]
  },
  {
   "cell_type": "code",
   "execution_count": 10,
   "id": "neither-effectiveness",
   "metadata": {},
   "outputs": [],
   "source": [
    "d_data.loc[d_data.SeniorCitizen==0, 'SeniorCitizen'] = 'No'"
   ]
  },
  {
   "cell_type": "code",
   "execution_count": 11,
   "id": "phantom-compatibility",
   "metadata": {},
   "outputs": [
    {
     "data": {
      "text/plain": [
       "customerID           object\n",
       "gender               object\n",
       "SeniorCitizen        object\n",
       "Partner              object\n",
       "Dependents           object\n",
       "tenure                int64\n",
       "PhoneService         object\n",
       "MultipleLines        object\n",
       "InternetService      object\n",
       "OnlineSecurity       object\n",
       "OnlineBackup         object\n",
       "DeviceProtection     object\n",
       "TechSupport          object\n",
       "StreamingTV          object\n",
       "StreamingMovies      object\n",
       "Contract             object\n",
       "PaperlessBilling     object\n",
       "PaymentMethod        object\n",
       "MonthlyCharges      float64\n",
       "TotalCharges         object\n",
       "Churn                object\n",
       "dtype: object"
      ]
     },
     "execution_count": 11,
     "metadata": {},
     "output_type": "execute_result"
    }
   ],
   "source": [
    "d_data.dtypes"
   ]
  },
  {
   "cell_type": "markdown",
   "id": "historic-breed",
   "metadata": {},
   "source": [
    "- Create 90% missing values in a feature"
   ]
  },
  {
   "cell_type": "code",
   "execution_count": 12,
   "id": "unusual-compression",
   "metadata": {},
   "outputs": [],
   "source": [
    "d_data['InstallApp'] = 'Yes'"
   ]
  },
  {
   "cell_type": "code",
   "execution_count": 13,
   "id": "polish-bikini",
   "metadata": {},
   "outputs": [],
   "source": [
    "d_data.loc[21:30, 'InstallApp'] = 'No'"
   ]
  },
  {
   "cell_type": "code",
   "execution_count": 14,
   "id": "quantitative-warren",
   "metadata": {},
   "outputs": [],
   "source": [
    "d_data.loc[31:, 'InstallApp'] = None"
   ]
  },
  {
   "cell_type": "code",
   "execution_count": 15,
   "id": "humanitarian-jersey",
   "metadata": {},
   "outputs": [
    {
     "data": {
      "text/plain": [
       "customerID             0\n",
       "gender               100\n",
       "SeniorCitizen          0\n",
       "Partner               16\n",
       "Dependents             0\n",
       "tenure                 0\n",
       "PhoneService           0\n",
       "MultipleLines          0\n",
       "InternetService        0\n",
       "OnlineSecurity         0\n",
       "OnlineBackup           0\n",
       "DeviceProtection       0\n",
       "TechSupport            0\n",
       "StreamingTV            0\n",
       "StreamingMovies        0\n",
       "Contract               0\n",
       "PaperlessBilling       0\n",
       "PaymentMethod          0\n",
       "MonthlyCharges         0\n",
       "TotalCharges           0\n",
       "Churn                  0\n",
       "InstallApp          5955\n",
       "dtype: int64"
      ]
     },
     "execution_count": 15,
     "metadata": {},
     "output_type": "execute_result"
    }
   ],
   "source": [
    "d_data.isna().sum()"
   ]
  },
  {
   "cell_type": "markdown",
   "id": "helpful-today",
   "metadata": {},
   "source": [
    "- Create email feature"
   ]
  },
  {
   "cell_type": "code",
   "execution_count": 16,
   "id": "valued-charleston",
   "metadata": {},
   "outputs": [],
   "source": [
    "email_extensions = ['@gmail.com', '@yahoo.com', '@outlook.com', '@rocketmail.com', '@apple.com', '@salesforce.com',\n",
    "                   '@amail.comz', '@gmail.c', '@face_book.com', '@fall.com.sg']"
   ]
  },
  {
   "cell_type": "code",
   "execution_count": 17,
   "id": "sonic-value",
   "metadata": {},
   "outputs": [
    {
     "data": {
      "text/plain": [
       "10"
      ]
     },
     "execution_count": 17,
     "metadata": {},
     "output_type": "execute_result"
    }
   ],
   "source": [
    "len(email_extensions)"
   ]
  },
  {
   "cell_type": "code",
   "execution_count": 18,
   "id": "baking-legislation",
   "metadata": {},
   "outputs": [],
   "source": [
    "ALPHABET = np.array(list(string.ascii_letters))"
   ]
  },
  {
   "cell_type": "code",
   "execution_count": 19,
   "id": "deluxe-attachment",
   "metadata": {},
   "outputs": [],
   "source": [
    "def generate_email():\n",
    "    email_idx = np.random.randint(0, len(email_extensions))\n",
    "    name = \"\".join(np.random.choice(ALPHABET, 5).tolist())\n",
    "    return name + email_extensions[email_idx]"
   ]
  },
  {
   "cell_type": "code",
   "execution_count": 20,
   "id": "correct-exclusive",
   "metadata": {},
   "outputs": [],
   "source": [
    "d_data['email'] = [generate_email() for _ in range(len(d_data))]"
   ]
  },
  {
   "cell_type": "code",
   "execution_count": 21,
   "id": "returning-petersburg",
   "metadata": {},
   "outputs": [
    {
     "data": {
      "text/html": [
       "<div>\n",
       "<style scoped>\n",
       "    .dataframe tbody tr th:only-of-type {\n",
       "        vertical-align: middle;\n",
       "    }\n",
       "\n",
       "    .dataframe tbody tr th {\n",
       "        vertical-align: top;\n",
       "    }\n",
       "\n",
       "    .dataframe thead th {\n",
       "        text-align: right;\n",
       "    }\n",
       "</style>\n",
       "<table border=\"1\" class=\"dataframe\">\n",
       "  <thead>\n",
       "    <tr style=\"text-align: right;\">\n",
       "      <th></th>\n",
       "      <th>customerID</th>\n",
       "      <th>gender</th>\n",
       "      <th>SeniorCitizen</th>\n",
       "      <th>Partner</th>\n",
       "      <th>Dependents</th>\n",
       "      <th>tenure</th>\n",
       "      <th>PhoneService</th>\n",
       "      <th>MultipleLines</th>\n",
       "      <th>InternetService</th>\n",
       "      <th>OnlineSecurity</th>\n",
       "      <th>OnlineBackup</th>\n",
       "      <th>DeviceProtection</th>\n",
       "      <th>TechSupport</th>\n",
       "      <th>StreamingTV</th>\n",
       "      <th>StreamingMovies</th>\n",
       "      <th>Contract</th>\n",
       "      <th>PaperlessBilling</th>\n",
       "      <th>PaymentMethod</th>\n",
       "      <th>MonthlyCharges</th>\n",
       "      <th>TotalCharges</th>\n",
       "      <th>Churn</th>\n",
       "      <th>InstallApp</th>\n",
       "      <th>email</th>\n",
       "    </tr>\n",
       "  </thead>\n",
       "  <tbody>\n",
       "    <tr>\n",
       "      <th>0</th>\n",
       "      <td>7010-BRBUU</td>\n",
       "      <td>Male</td>\n",
       "      <td>No</td>\n",
       "      <td>Yes</td>\n",
       "      <td>Yes</td>\n",
       "      <td>72</td>\n",
       "      <td>Yes</td>\n",
       "      <td>Yes</td>\n",
       "      <td>No</td>\n",
       "      <td>No internet service</td>\n",
       "      <td>No internet service</td>\n",
       "      <td>No internet service</td>\n",
       "      <td>No internet service</td>\n",
       "      <td>No internet service</td>\n",
       "      <td>No internet service</td>\n",
       "      <td>Two year</td>\n",
       "      <td>No</td>\n",
       "      <td>Credit card (automatic)</td>\n",
       "      <td>24.10</td>\n",
       "      <td>1734.65</td>\n",
       "      <td>No</td>\n",
       "      <td>Yes</td>\n",
       "      <td>pgtbg@salesforce.com</td>\n",
       "    </tr>\n",
       "    <tr>\n",
       "      <th>1</th>\n",
       "      <td>9688-YGXVR</td>\n",
       "      <td>Female</td>\n",
       "      <td>No</td>\n",
       "      <td>No</td>\n",
       "      <td>No</td>\n",
       "      <td>44</td>\n",
       "      <td>Yes</td>\n",
       "      <td>No</td>\n",
       "      <td>Fiber optic</td>\n",
       "      <td>No</td>\n",
       "      <td>Yes</td>\n",
       "      <td>Yes</td>\n",
       "      <td>No</td>\n",
       "      <td>Yes</td>\n",
       "      <td>No</td>\n",
       "      <td>Month-to-month</td>\n",
       "      <td>Yes</td>\n",
       "      <td>Credit card (automatic)</td>\n",
       "      <td>88.15</td>\n",
       "      <td>3973.2</td>\n",
       "      <td>No</td>\n",
       "      <td>Yes</td>\n",
       "      <td>VIxyZ@salesforce.com</td>\n",
       "    </tr>\n",
       "    <tr>\n",
       "      <th>2</th>\n",
       "      <td>9286-DOJGF</td>\n",
       "      <td>Female</td>\n",
       "      <td>1</td>\n",
       "      <td>Yes</td>\n",
       "      <td>No</td>\n",
       "      <td>38</td>\n",
       "      <td>Yes</td>\n",
       "      <td>Yes</td>\n",
       "      <td>Fiber optic</td>\n",
       "      <td>No</td>\n",
       "      <td>No</td>\n",
       "      <td>No</td>\n",
       "      <td>No</td>\n",
       "      <td>No</td>\n",
       "      <td>No</td>\n",
       "      <td>Month-to-month</td>\n",
       "      <td>Yes</td>\n",
       "      <td>Bank transfer (automatic)</td>\n",
       "      <td>74.95</td>\n",
       "      <td>2869.85</td>\n",
       "      <td>Yes</td>\n",
       "      <td>Yes</td>\n",
       "      <td>dPsvK@fall.com.sg</td>\n",
       "    </tr>\n",
       "    <tr>\n",
       "      <th>3</th>\n",
       "      <td>6994-KERXL</td>\n",
       "      <td>Male</td>\n",
       "      <td>No</td>\n",
       "      <td>No</td>\n",
       "      <td>No</td>\n",
       "      <td>4</td>\n",
       "      <td>Yes</td>\n",
       "      <td>No</td>\n",
       "      <td>DSL</td>\n",
       "      <td>No</td>\n",
       "      <td>No</td>\n",
       "      <td>No</td>\n",
       "      <td>No</td>\n",
       "      <td>No</td>\n",
       "      <td>Yes</td>\n",
       "      <td>Month-to-month</td>\n",
       "      <td>Yes</td>\n",
       "      <td>Electronic check</td>\n",
       "      <td>55.90</td>\n",
       "      <td>238.5</td>\n",
       "      <td>No</td>\n",
       "      <td>Yes</td>\n",
       "      <td>ceFXX@gmail.c</td>\n",
       "    </tr>\n",
       "    <tr>\n",
       "      <th>4</th>\n",
       "      <td>2181-UAESM</td>\n",
       "      <td>Male</td>\n",
       "      <td>No</td>\n",
       "      <td>No</td>\n",
       "      <td>No</td>\n",
       "      <td>2</td>\n",
       "      <td>Yes</td>\n",
       "      <td>No</td>\n",
       "      <td>DSL</td>\n",
       "      <td>Yes</td>\n",
       "      <td>No</td>\n",
       "      <td>Yes</td>\n",
       "      <td>No</td>\n",
       "      <td>No</td>\n",
       "      <td>No</td>\n",
       "      <td>Month-to-month</td>\n",
       "      <td>No</td>\n",
       "      <td>Electronic check</td>\n",
       "      <td>53.45</td>\n",
       "      <td>119.5</td>\n",
       "      <td>No</td>\n",
       "      <td>Yes</td>\n",
       "      <td>ASpHa@face_book.com</td>\n",
       "    </tr>\n",
       "    <tr>\n",
       "      <th>...</th>\n",
       "      <td>...</td>\n",
       "      <td>...</td>\n",
       "      <td>...</td>\n",
       "      <td>...</td>\n",
       "      <td>...</td>\n",
       "      <td>...</td>\n",
       "      <td>...</td>\n",
       "      <td>...</td>\n",
       "      <td>...</td>\n",
       "      <td>...</td>\n",
       "      <td>...</td>\n",
       "      <td>...</td>\n",
       "      <td>...</td>\n",
       "      <td>...</td>\n",
       "      <td>...</td>\n",
       "      <td>...</td>\n",
       "      <td>...</td>\n",
       "      <td>...</td>\n",
       "      <td>...</td>\n",
       "      <td>...</td>\n",
       "      <td>...</td>\n",
       "      <td>...</td>\n",
       "      <td>...</td>\n",
       "    </tr>\n",
       "    <tr>\n",
       "      <th>5981</th>\n",
       "      <td>0684-AOSIH</td>\n",
       "      <td>Male</td>\n",
       "      <td>No</td>\n",
       "      <td>Yes</td>\n",
       "      <td>No</td>\n",
       "      <td>1</td>\n",
       "      <td>Yes</td>\n",
       "      <td>No</td>\n",
       "      <td>Fiber optic</td>\n",
       "      <td>Yes</td>\n",
       "      <td>No</td>\n",
       "      <td>No</td>\n",
       "      <td>No</td>\n",
       "      <td>Yes</td>\n",
       "      <td>Yes</td>\n",
       "      <td>Month-to-month</td>\n",
       "      <td>Yes</td>\n",
       "      <td>Electronic check</td>\n",
       "      <td>95.00</td>\n",
       "      <td>95</td>\n",
       "      <td>Yes</td>\n",
       "      <td>None</td>\n",
       "      <td>vyvxQ@gmail.c</td>\n",
       "    </tr>\n",
       "    <tr>\n",
       "      <th>5982</th>\n",
       "      <td>5982-PSMKW</td>\n",
       "      <td>Female</td>\n",
       "      <td>No</td>\n",
       "      <td>Yes</td>\n",
       "      <td>Yes</td>\n",
       "      <td>23</td>\n",
       "      <td>Yes</td>\n",
       "      <td>Yes</td>\n",
       "      <td>DSL</td>\n",
       "      <td>Yes</td>\n",
       "      <td>Yes</td>\n",
       "      <td>Yes</td>\n",
       "      <td>Yes</td>\n",
       "      <td>Yes</td>\n",
       "      <td>Yes</td>\n",
       "      <td>Two year</td>\n",
       "      <td>Yes</td>\n",
       "      <td>Credit card (automatic)</td>\n",
       "      <td>91.10</td>\n",
       "      <td>2198.3</td>\n",
       "      <td>No</td>\n",
       "      <td>None</td>\n",
       "      <td>RmVDn@outlook.com</td>\n",
       "    </tr>\n",
       "    <tr>\n",
       "      <th>5983</th>\n",
       "      <td>8044-BGWPI</td>\n",
       "      <td>Male</td>\n",
       "      <td>No</td>\n",
       "      <td>Yes</td>\n",
       "      <td>Yes</td>\n",
       "      <td>12</td>\n",
       "      <td>Yes</td>\n",
       "      <td>No</td>\n",
       "      <td>No</td>\n",
       "      <td>No internet service</td>\n",
       "      <td>No internet service</td>\n",
       "      <td>No internet service</td>\n",
       "      <td>No internet service</td>\n",
       "      <td>No internet service</td>\n",
       "      <td>No internet service</td>\n",
       "      <td>Month-to-month</td>\n",
       "      <td>Yes</td>\n",
       "      <td>Electronic check</td>\n",
       "      <td>21.15</td>\n",
       "      <td>306.05</td>\n",
       "      <td>No</td>\n",
       "      <td>None</td>\n",
       "      <td>WhBXb@apple.com</td>\n",
       "    </tr>\n",
       "    <tr>\n",
       "      <th>5984</th>\n",
       "      <td>7450-NWRTR</td>\n",
       "      <td>Male</td>\n",
       "      <td>1</td>\n",
       "      <td>No</td>\n",
       "      <td>No</td>\n",
       "      <td>12</td>\n",
       "      <td>Yes</td>\n",
       "      <td>Yes</td>\n",
       "      <td>Fiber optic</td>\n",
       "      <td>No</td>\n",
       "      <td>No</td>\n",
       "      <td>Yes</td>\n",
       "      <td>No</td>\n",
       "      <td>Yes</td>\n",
       "      <td>Yes</td>\n",
       "      <td>Month-to-month</td>\n",
       "      <td>Yes</td>\n",
       "      <td>Electronic check</td>\n",
       "      <td>99.45</td>\n",
       "      <td>1200.15</td>\n",
       "      <td>Yes</td>\n",
       "      <td>None</td>\n",
       "      <td>kQvAy@gmail.com</td>\n",
       "    </tr>\n",
       "    <tr>\n",
       "      <th>5985</th>\n",
       "      <td>4795-UXVCJ</td>\n",
       "      <td>Male</td>\n",
       "      <td>No</td>\n",
       "      <td>No</td>\n",
       "      <td>No</td>\n",
       "      <td>26</td>\n",
       "      <td>Yes</td>\n",
       "      <td>No</td>\n",
       "      <td>No</td>\n",
       "      <td>No internet service</td>\n",
       "      <td>No internet service</td>\n",
       "      <td>No internet service</td>\n",
       "      <td>No internet service</td>\n",
       "      <td>No internet service</td>\n",
       "      <td>No internet service</td>\n",
       "      <td>One year</td>\n",
       "      <td>No</td>\n",
       "      <td>Credit card (automatic)</td>\n",
       "      <td>19.80</td>\n",
       "      <td>457.3</td>\n",
       "      <td>No</td>\n",
       "      <td>None</td>\n",
       "      <td>JUIqh@gmail.c</td>\n",
       "    </tr>\n",
       "  </tbody>\n",
       "</table>\n",
       "<p>5986 rows × 23 columns</p>\n",
       "</div>"
      ],
      "text/plain": [
       "      customerID  gender SeniorCitizen Partner Dependents  tenure  \\\n",
       "0     7010-BRBUU    Male            No     Yes        Yes      72   \n",
       "1     9688-YGXVR  Female            No      No         No      44   \n",
       "2     9286-DOJGF  Female             1     Yes         No      38   \n",
       "3     6994-KERXL    Male            No      No         No       4   \n",
       "4     2181-UAESM    Male            No      No         No       2   \n",
       "...          ...     ...           ...     ...        ...     ...   \n",
       "5981  0684-AOSIH    Male            No     Yes         No       1   \n",
       "5982  5982-PSMKW  Female            No     Yes        Yes      23   \n",
       "5983  8044-BGWPI    Male            No     Yes        Yes      12   \n",
       "5984  7450-NWRTR    Male             1      No         No      12   \n",
       "5985  4795-UXVCJ    Male            No      No         No      26   \n",
       "\n",
       "     PhoneService MultipleLines InternetService       OnlineSecurity  \\\n",
       "0             Yes           Yes              No  No internet service   \n",
       "1             Yes            No     Fiber optic                   No   \n",
       "2             Yes           Yes     Fiber optic                   No   \n",
       "3             Yes            No             DSL                   No   \n",
       "4             Yes            No             DSL                  Yes   \n",
       "...           ...           ...             ...                  ...   \n",
       "5981          Yes            No     Fiber optic                  Yes   \n",
       "5982          Yes           Yes             DSL                  Yes   \n",
       "5983          Yes            No              No  No internet service   \n",
       "5984          Yes           Yes     Fiber optic                   No   \n",
       "5985          Yes            No              No  No internet service   \n",
       "\n",
       "             OnlineBackup     DeviceProtection          TechSupport  \\\n",
       "0     No internet service  No internet service  No internet service   \n",
       "1                     Yes                  Yes                   No   \n",
       "2                      No                   No                   No   \n",
       "3                      No                   No                   No   \n",
       "4                      No                  Yes                   No   \n",
       "...                   ...                  ...                  ...   \n",
       "5981                   No                   No                   No   \n",
       "5982                  Yes                  Yes                  Yes   \n",
       "5983  No internet service  No internet service  No internet service   \n",
       "5984                   No                  Yes                   No   \n",
       "5985  No internet service  No internet service  No internet service   \n",
       "\n",
       "              StreamingTV      StreamingMovies        Contract  \\\n",
       "0     No internet service  No internet service        Two year   \n",
       "1                     Yes                   No  Month-to-month   \n",
       "2                      No                   No  Month-to-month   \n",
       "3                      No                  Yes  Month-to-month   \n",
       "4                      No                   No  Month-to-month   \n",
       "...                   ...                  ...             ...   \n",
       "5981                  Yes                  Yes  Month-to-month   \n",
       "5982                  Yes                  Yes        Two year   \n",
       "5983  No internet service  No internet service  Month-to-month   \n",
       "5984                  Yes                  Yes  Month-to-month   \n",
       "5985  No internet service  No internet service        One year   \n",
       "\n",
       "     PaperlessBilling              PaymentMethod  MonthlyCharges TotalCharges  \\\n",
       "0                  No    Credit card (automatic)           24.10      1734.65   \n",
       "1                 Yes    Credit card (automatic)           88.15       3973.2   \n",
       "2                 Yes  Bank transfer (automatic)           74.95      2869.85   \n",
       "3                 Yes           Electronic check           55.90        238.5   \n",
       "4                  No           Electronic check           53.45        119.5   \n",
       "...               ...                        ...             ...          ...   \n",
       "5981              Yes           Electronic check           95.00           95   \n",
       "5982              Yes    Credit card (automatic)           91.10       2198.3   \n",
       "5983              Yes           Electronic check           21.15       306.05   \n",
       "5984              Yes           Electronic check           99.45      1200.15   \n",
       "5985               No    Credit card (automatic)           19.80        457.3   \n",
       "\n",
       "     Churn InstallApp                 email  \n",
       "0       No        Yes  pgtbg@salesforce.com  \n",
       "1       No        Yes  VIxyZ@salesforce.com  \n",
       "2      Yes        Yes     dPsvK@fall.com.sg  \n",
       "3       No        Yes         ceFXX@gmail.c  \n",
       "4       No        Yes   ASpHa@face_book.com  \n",
       "...    ...        ...                   ...  \n",
       "5981   Yes       None         vyvxQ@gmail.c  \n",
       "5982    No       None     RmVDn@outlook.com  \n",
       "5983    No       None       WhBXb@apple.com  \n",
       "5984   Yes       None       kQvAy@gmail.com  \n",
       "5985    No       None         JUIqh@gmail.c  \n",
       "\n",
       "[5986 rows x 23 columns]"
      ]
     },
     "execution_count": 21,
     "metadata": {},
     "output_type": "execute_result"
    }
   ],
   "source": [
    "d_data"
   ]
  },
  {
   "cell_type": "markdown",
   "id": "devoted-leeds",
   "metadata": {},
   "source": [
    "- Create postal code feature"
   ]
  },
  {
   "cell_type": "code",
   "execution_count": 22,
   "id": "ignored-representation",
   "metadata": {},
   "outputs": [],
   "source": [
    "kodepos = np.random.randint(low=10000, high=99999, size=(d_data.shape[0]))"
   ]
  },
  {
   "cell_type": "code",
   "execution_count": 23,
   "id": "centered-status",
   "metadata": {},
   "outputs": [],
   "source": [
    "d_data['kodepos'] = kodepos"
   ]
  },
  {
   "cell_type": "markdown",
   "id": "balanced-glasgow",
   "metadata": {},
   "source": [
    "- Create datetime feature"
   ]
  },
  {
   "cell_type": "code",
   "execution_count": 24,
   "id": "available-patio",
   "metadata": {},
   "outputs": [],
   "source": [
    "from datetime import datetime"
   ]
  },
  {
   "cell_type": "code",
   "execution_count": 25,
   "id": "expired-horizon",
   "metadata": {},
   "outputs": [
    {
     "data": {
      "text/plain": [
       "'31/01/2021'"
      ]
     },
     "execution_count": 25,
     "metadata": {},
     "output_type": "execute_result"
    }
   ],
   "source": [
    "datetime(2021, 1, 31).strftime('%d/%m/%Y')"
   ]
  },
  {
   "cell_type": "code",
   "execution_count": 26,
   "id": "comparative-robin",
   "metadata": {},
   "outputs": [],
   "source": [
    "def generate_date(month, year):\n",
    "    if month == 2:\n",
    "        high = 28\n",
    "    elif month in [1,3,5,7,8,10,12]:\n",
    "        high = 31\n",
    "    else:\n",
    "        high = 30\n",
    "    \n",
    "    date = np.random.randint(1,31)\n",
    "    \n",
    "    return datetime(year, month, date).strftime('%d/%m/%Y')"
   ]
  },
  {
   "cell_type": "code",
   "execution_count": 27,
   "id": "bibliographic-corpus",
   "metadata": {},
   "outputs": [],
   "source": [
    "d_data['RecordedDate'] = [generate_date(1, 2021) for _ in range(len(d_data))]"
   ]
  },
  {
   "cell_type": "code",
   "execution_count": 28,
   "id": "stunning-demand",
   "metadata": {},
   "outputs": [
    {
     "data": {
      "text/plain": [
       "customerID           object\n",
       "gender               object\n",
       "SeniorCitizen        object\n",
       "Partner              object\n",
       "Dependents           object\n",
       "tenure                int64\n",
       "PhoneService         object\n",
       "MultipleLines        object\n",
       "InternetService      object\n",
       "OnlineSecurity       object\n",
       "OnlineBackup         object\n",
       "DeviceProtection     object\n",
       "TechSupport          object\n",
       "StreamingTV          object\n",
       "StreamingMovies      object\n",
       "Contract             object\n",
       "PaperlessBilling     object\n",
       "PaymentMethod        object\n",
       "MonthlyCharges      float64\n",
       "TotalCharges         object\n",
       "Churn                object\n",
       "InstallApp           object\n",
       "email                object\n",
       "kodepos               int32\n",
       "RecordedDate         object\n",
       "dtype: object"
      ]
     },
     "execution_count": 28,
     "metadata": {},
     "output_type": "execute_result"
    }
   ],
   "source": [
    "d_data.dtypes"
   ]
  },
  {
   "cell_type": "markdown",
   "id": "going-child",
   "metadata": {},
   "source": [
    "- Create another numeric feature"
   ]
  },
  {
   "cell_type": "markdown",
   "id": "willing-holiday",
   "metadata": {},
   "source": [
    "Age"
   ]
  },
  {
   "cell_type": "code",
   "execution_count": 29,
   "id": "legal-orchestra",
   "metadata": {},
   "outputs": [],
   "source": [
    "d_data.loc[d_data.SeniorCitizen == 1, 'age'] = np.random.randint(45, 85, len(d_data.loc[d_data.SeniorCitizen == 1]))\n",
    "d_data.loc[d_data.SeniorCitizen == 'No', 'age'] = np.random.randint(17, 45, len(d_data.loc[d_data.SeniorCitizen == 'No']))"
   ]
  },
  {
   "cell_type": "markdown",
   "id": "aging-message",
   "metadata": {},
   "source": [
    "Number of Send Messages"
   ]
  },
  {
   "cell_type": "code",
   "execution_count": 30,
   "id": "physical-colonial",
   "metadata": {},
   "outputs": [],
   "source": [
    "d_data.loc[d_data.age.between(60,85) ,'number_of_send_message'] = np.random.randint(10, 30, len(d_data.loc[d_data.age.between(60,85)]))\n",
    "d_data.loc[d_data.age.between(40,60) ,'number_of_send_message'] = np.random.randint(20, 30, len(d_data.loc[d_data.age.between(40,60)]))\n",
    "d_data.loc[d_data.age.between(25,40) ,'number_of_send_message'] = np.random.randint(40, 90, len(d_data.loc[d_data.age.between(25,40)]))\n",
    "d_data.loc[d_data.age.between(17,25) ,'number_of_send_message'] = np.random.randint(90, 180, len(d_data.loc[d_data.age.between(17,25)]))"
   ]
  },
  {
   "cell_type": "markdown",
   "id": "juvenile-console",
   "metadata": {},
   "source": [
    "Number of Received Messages"
   ]
  },
  {
   "cell_type": "code",
   "execution_count": 31,
   "id": "stupid-tiffany",
   "metadata": {},
   "outputs": [],
   "source": [
    "d_data.loc[d_data.age.between(60,85) ,'number_of_received_message'] = np.random.randint(30, 40, len(d_data.loc[d_data.age.between(60,85)]))\n",
    "d_data.loc[d_data.age.between(40,60) ,'number_of_received_message'] = np.random.randint(20, 30, len(d_data.loc[d_data.age.between(40,60)]))\n",
    "d_data.loc[d_data.age.between(25,40) ,'number_of_received_message'] = np.random.randint(40, 90, len(d_data.loc[d_data.age.between(25,40)]))\n",
    "d_data.loc[d_data.age.between(17,25) ,'number_of_received_message'] = np.random.randint(90, 180, len(d_data.loc[d_data.age.between(17,25)]))"
   ]
  },
  {
   "cell_type": "markdown",
   "id": "armed-prisoner",
   "metadata": {},
   "source": [
    "Minutes of Call"
   ]
  },
  {
   "cell_type": "code",
   "execution_count": 32,
   "id": "familiar-relay",
   "metadata": {},
   "outputs": [],
   "source": [
    "d_data.loc[d_data.age.between(60,85) ,'minutes_of_call'] = np.random.randint(120, 300, len(d_data.loc[d_data.age.between(60,85)]))\n",
    "d_data.loc[d_data.age.between(40,60) ,'minutes_of_call'] = np.random.randint(120, 150, len(d_data.loc[d_data.age.between(40,60)]))\n",
    "d_data.loc[d_data.age.between(25,40) ,'minutes_of_call'] = np.random.randint(60, 180, len(d_data.loc[d_data.age.between(25,40)]))\n",
    "d_data.loc[d_data.age.between(17,25) ,'minutes_of_call'] = np.random.randint(30, 90, len(d_data.loc[d_data.age.between(17,25)]))"
   ]
  },
  {
   "cell_type": "markdown",
   "id": "floating-peeing",
   "metadata": {},
   "source": [
    "Number of Call"
   ]
  },
  {
   "cell_type": "code",
   "execution_count": 33,
   "id": "certain-welding",
   "metadata": {},
   "outputs": [],
   "source": [
    "d_data.loc[d_data.age.between(60,85) ,'num_of_call'] = np.random.randint(10, 15, len(d_data.loc[d_data.age.between(60,85)]))\n",
    "d_data.loc[d_data.age.between(40,60) ,'num_of_call'] = np.random.randint(12, 17, len(d_data.loc[d_data.age.between(40,60)]))\n",
    "d_data.loc[d_data.age.between(25,40) ,'num_of_call'] = np.random.randint(20, 30, len(d_data.loc[d_data.age.between(25,40)]))\n",
    "d_data.loc[d_data.age.between(17,25) ,'num_of_call'] = np.random.randint(30, 60, len(d_data.loc[d_data.age.between(17,25)]))"
   ]
  },
  {
   "cell_type": "markdown",
   "id": "banner-black",
   "metadata": {},
   "source": [
    "Internet Usage"
   ]
  },
  {
   "cell_type": "code",
   "execution_count": 34,
   "id": "turkish-touch",
   "metadata": {},
   "outputs": [],
   "source": [
    "d_data.loc[d_data.age.between(60,85) ,'internet_usage_megabytes'] = np.random.randint(1024, 5120, len(d_data.loc[d_data.age.between(60,85)]))\n",
    "d_data.loc[d_data.age.between(40,60) ,'internet_usage_megabytes'] = np.random.randint(1024, 20000, len(d_data.loc[d_data.age.between(40,60)]))\n",
    "d_data.loc[d_data.age.between(25,40) ,'internet_usage_megabytes'] = np.random.randint(1024, 30000, len(d_data.loc[d_data.age.between(25,40)]))\n",
    "d_data.loc[d_data.age.between(17,25) ,'internet_usage_megabytes'] = np.random.randint(1024, 51200, len(d_data.loc[d_data.age.between(17,25)]))"
   ]
  },
  {
   "cell_type": "markdown",
   "id": "judicial-subcommittee",
   "metadata": {},
   "source": [
    "Netflix Usage"
   ]
  },
  {
   "cell_type": "code",
   "execution_count": 35,
   "id": "bibliographic-boundary",
   "metadata": {},
   "outputs": [],
   "source": [
    "d_data.loc[d_data.age.between(60,85) ,'netflix_usage_megabytes'] = np.random.randint(512, 1024, len(d_data.loc[d_data.age.between(60,85)]))\n",
    "d_data.loc[d_data.age.between(40,60) ,'netflix_usage_megabytes'] = np.random.randint(512, 1024, len(d_data.loc[d_data.age.between(40,60)]))\n",
    "d_data.loc[d_data.age.between(25,40) ,'netflix_usage_megabytes'] = np.random.randint(5120, 10240, len(d_data.loc[d_data.age.between(25,40)]))\n",
    "d_data.loc[d_data.age.between(17,25) ,'netflix_usage_megabytes'] = np.random.randint(5120, 10240, len(d_data.loc[d_data.age.between(17,25)]))"
   ]
  },
  {
   "cell_type": "markdown",
   "id": "accepting-directory",
   "metadata": {},
   "source": [
    "Youtube Usage"
   ]
  },
  {
   "cell_type": "code",
   "execution_count": 36,
   "id": "hearing-gospel",
   "metadata": {},
   "outputs": [],
   "source": [
    "d_data.loc[d_data.age.between(60,85) ,'youtube_usage_megabytes'] = np.random.randint(512, 1024, len(d_data.loc[d_data.age.between(60,85)]))\n",
    "d_data.loc[d_data.age.between(40,60) ,'youtube_usage_megabytes'] = np.random.randint(512, 1024, len(d_data.loc[d_data.age.between(40,60)]))\n",
    "d_data.loc[d_data.age.between(25,40) ,'youtube_usage_megabytes'] = np.random.randint(5120, 10240, len(d_data.loc[d_data.age.between(25,40)]))\n",
    "d_data.loc[d_data.age.between(17,25) ,'youtube_usage_megabytes'] = np.random.randint(5120, 10240, len(d_data.loc[d_data.age.between(17,25)]))"
   ]
  },
  {
   "cell_type": "markdown",
   "id": "spare-confidence",
   "metadata": {},
   "source": [
    "Games Usage"
   ]
  },
  {
   "cell_type": "code",
   "execution_count": 37,
   "id": "adequate-change",
   "metadata": {},
   "outputs": [],
   "source": [
    "d_data.loc[d_data.age.between(60,85) ,'game_usage_megabytes'] = np.random.randint(1, 10, len(d_data.loc[d_data.age.between(60,85)]))\n",
    "d_data.loc[d_data.age.between(40,60) ,'game_usage_megabytes'] = np.random.randint(1, 10, len(d_data.loc[d_data.age.between(40,60)]))\n",
    "d_data.loc[d_data.age.between(25,40) ,'game_usage_megabytes'] = np.random.randint(512, 1024, len(d_data.loc[d_data.age.between(25,40)]))\n",
    "d_data.loc[d_data.age.between(17,25) ,'game_usage_megabytes'] = np.random.randint(1024, 10240, len(d_data.loc[d_data.age.between(17,25)]))"
   ]
  },
  {
   "cell_type": "markdown",
   "id": "measured-heavy",
   "metadata": {},
   "source": [
    "Ping"
   ]
  },
  {
   "cell_type": "code",
   "execution_count": 38,
   "id": "ordered-address",
   "metadata": {},
   "outputs": [],
   "source": [
    "d_data.loc[d_data.kodepos.between(10000, 60000) ,'average_internet_ping'] = np.random.randint(15, 90, len(d_data.loc[d_data.kodepos.between(10000, 60000)]))\n",
    "d_data.loc[d_data.kodepos.between(60000, 80000) ,'average_internet_ping'] = np.random.randint(100, 150, len(d_data.loc[d_data.kodepos.between(60000, 80000)]))\n",
    "d_data.loc[d_data.kodepos.between(80000, 100000) ,'average_internet_ping'] = np.random.randint(120, 300, len(d_data.loc[d_data.kodepos.between(80000, 100000)]))"
   ]
  },
  {
   "cell_type": "markdown",
   "id": "corporate-thriller",
   "metadata": {},
   "source": [
    "Internet Speed"
   ]
  },
  {
   "cell_type": "code",
   "execution_count": 39,
   "id": "bored-religion",
   "metadata": {},
   "outputs": [],
   "source": [
    "d_data.sort_values(by='average_internet_ping',inplace=True)"
   ]
  },
  {
   "cell_type": "code",
   "execution_count": 40,
   "id": "monthly-principle",
   "metadata": {},
   "outputs": [
    {
     "data": {
      "text/plain": [
       "(5986, 35)"
      ]
     },
     "execution_count": 40,
     "metadata": {},
     "output_type": "execute_result"
    }
   ],
   "source": [
    "d_data.shape"
   ]
  },
  {
   "cell_type": "code",
   "execution_count": 41,
   "id": "genuine-timer",
   "metadata": {},
   "outputs": [],
   "source": [
    "denom = np.sort(np.random.normal(loc=0.0,scale=2,size=5986))"
   ]
  },
  {
   "cell_type": "code",
   "execution_count": 42,
   "id": "warming-configuration",
   "metadata": {},
   "outputs": [],
   "source": [
    "d_data['average_internet_speed_in_megabytes'] = ((300 - d_data.average_internet_ping) / 10) + denom"
   ]
  },
  {
   "cell_type": "code",
   "execution_count": 43,
   "id": "affected-specialist",
   "metadata": {},
   "outputs": [
    {
     "data": {
      "text/plain": [
       "<matplotlib.axes._subplots.AxesSubplot at 0x24fb28a1780>"
      ]
     },
     "execution_count": 43,
     "metadata": {},
     "output_type": "execute_result"
    },
    {
     "data": {
      "image/png": "[encoded data removed]",
      "text/plain": [
       "<Figure size 432x288 with 1 Axes>"
      ]
     },
     "metadata": {
      "needs_background": "light"
     },
     "output_type": "display_data"
    }
   ],
   "source": [
    "sns.scatterplot(y='average_internet_speed_in_megabytes', x='average_internet_ping', data=d_data)"
   ]
  },
  {
   "cell_type": "markdown",
   "id": "altered-metadata",
   "metadata": {},
   "source": [
    "- Create duplicate entries"
   ]
  },
  {
   "cell_type": "code",
   "execution_count": 44,
   "id": "wireless-burke",
   "metadata": {},
   "outputs": [],
   "source": [
    "d_data2 = d_data.loc[900:1000, :].copy()"
   ]
  },
  {
   "cell_type": "code",
   "execution_count": 45,
   "id": "another-chamber",
   "metadata": {},
   "outputs": [],
   "source": [
    "d_data = d_data.append(d_data2, ignore_index=True)"
   ]
  },
  {
   "cell_type": "code",
   "execution_count": 46,
   "id": "agricultural-performance",
   "metadata": {},
   "outputs": [
    {
     "data": {
      "text/plain": [
       "(7714, 36)"
      ]
     },
     "execution_count": 46,
     "metadata": {},
     "output_type": "execute_result"
    }
   ],
   "source": [
    "d_data.shape"
   ]
  },
  {
   "cell_type": "code",
   "execution_count": 47,
   "id": "israeli-examination",
   "metadata": {},
   "outputs": [],
   "source": [
    "d_data.to_csv(\"telcom_user_extended.csv\", index=False)"
   ]
  },
  {
   "cell_type": "markdown",
   "id": "diagnostic-cigarette",
   "metadata": {},
   "source": [
    "- Create another dataset for append, concatenate, merge, join"
   ]
  },
  {
   "cell_type": "code",
   "execution_count": null,
   "id": "front-mining",
   "metadata": {},
   "outputs": [],
   "source": [
    "d_data_dec = d_data.copy()"
   ]
  },
  {
   "cell_type": "code",
   "execution_count": null,
   "id": "agreed-camcorder",
   "metadata": {},
   "outputs": [],
   "source": [
    "d_data_dec['RecordedDate'] = [generate_date(12, 2020) for _ in range(len(d_data))]"
   ]
  },
  {
   "cell_type": "code",
   "execution_count": null,
   "id": "flush-ballet",
   "metadata": {},
   "outputs": [],
   "source": [
    "d_data_dec"
   ]
  }
 ],
 "metadata": {
  "kernelspec": {
   "display_name": "Python 3",
   "language": "python",
   "name": "python3"
  },
  "language_info": {
   "codemirror_mode": {
    "name": "ipython",
    "version": 3
   },
   "file_extension": ".py",
   "mimetype": "text/x-python",
   "name": "python",
   "nbconvert_exporter": "python",
   "pygments_lexer": "ipython3",
   "version": "3.7.3"
  }
 },
 "nbformat": 4,
 "nbformat_minor": 5
}

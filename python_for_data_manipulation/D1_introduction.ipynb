{
 "cells": [
  {
   "cell_type": "markdown",
   "id": "spectacular-biodiversity",
   "metadata": {},
   "source": [
    "# Data Manipulation using Pandas"
   ]
  },
  {
   "cell_type": "markdown",
   "id": "deadly-uncertainty",
   "metadata": {},
   "source": [
    "Author: Andreas Chandra \\\n",
    "[Email](mailto:andreas@jakartaresearch.com) [Github](https://github.com/andreaschandra) [Blog](https://datafolksid.xyz/andreas)"
   ]
  },
  {
   "cell_type": "markdown",
   "id": "swedish-amendment",
   "metadata": {},
   "source": [
    "## Contents"
   ]
  },
  {
   "cell_type": "markdown",
   "id": "hollow-survival",
   "metadata": {},
   "source": [
    "Day 1\n",
    "- A Brief Overview of Pandas\n",
    "- Read/Write Pandas\n",
    "- Creating DataFrame from Dict/List\n",
    "- Basic Functionalities and Attributes (Head, Tail, Dtype, Shape, Describe, Missing Values)\n",
    "- Type Casting\n",
    "- Renaming Column\n",
    "- Slicing and Dicing DataFrame (Filtering)\n",
    "\n",
    "Day 2\n",
    "- Reindexing\n",
    "- Dropping and Poping\n",
    "- Duplicate data\n",
    "- Numeric Calculation\n",
    "- String Operation\n",
    "\n",
    "Day 3\n",
    "- Sorting\n",
    "- Grouping\n",
    "- Pandas Apply and Map Function\n",
    "- Appending, Joining, Merging, Concatenating 2 or more DataFrame\n",
    "- Pivot and Stack\n",
    "\n",
    "Day 4\n",
    "- Brief of Timeseries\n",
    "- Window Function\n",
    "- Basic Plotting"
   ]
  },
  {
   "cell_type": "markdown",
   "id": "worthy-jones",
   "metadata": {},
   "source": [
    "## Day 1"
   ]
  },
  {
   "cell_type": "markdown",
   "id": "micro-dictionary",
   "metadata": {},
   "source": [
    "### Overview of Pandas"
   ]
  },
  {
   "cell_type": "markdown",
   "id": "meaning-verse",
   "metadata": {},
   "source": [
    "pandas is a fast, powerful, flexible and easy to use open source data analysis and manipulation tool,\n",
    "built on top of the Python programming language."
   ]
  },
  {
   "cell_type": "markdown",
   "id": "successful-presence",
   "metadata": {},
   "source": [
    "Installation \\\n",
    "`pip install pandas`\n",
    "\n",
    "Repo: https://github.com/pandas-dev/pandas"
   ]
  },
  {
   "cell_type": "code",
   "execution_count": null,
   "id": "federal-navigator",
   "metadata": {},
   "outputs": [],
   "source": [
    "# Import the library\n",
    "import pandas as pd"
   ]
  },
  {
   "cell_type": "markdown",
   "id": "favorite-information",
   "metadata": {},
   "source": [
    "### Read/Write Functions\n",
    "\n",
    "https://pandas.pydata.org/pandas-docs/stable/user_guide/io.html\n",
    "\n",
    "Common read functions \\\n",
    "`read_csv()` `read_excel()` `read_table()` `read_json()`"
   ]
  },
  {
   "cell_type": "code",
   "execution_count": null,
   "id": "adapted-afternoon",
   "metadata": {},
   "outputs": [],
   "source": [
    "d_data = pd.read_csv(\"telcom_user_extended.csv\")"
   ]
  },
  {
   "cell_type": "markdown",
   "id": "stylish-arrow",
   "metadata": {},
   "source": [
    "Common write functions \\\n",
    "`to_csv` `to_json` `to_excel`"
   ]
  },
  {
   "cell_type": "code",
   "execution_count": null,
   "id": "exclusive-million",
   "metadata": {},
   "outputs": [],
   "source": [
    "d_data.to_csv(\"telecom_users_2.csv\", index=False)"
   ]
  },
  {
   "cell_type": "markdown",
   "id": "bridal-charger",
   "metadata": {},
   "source": [
    "### Creating DataFrame from List/Dictionary"
   ]
  },
  {
   "cell_type": "markdown",
   "id": "supreme-glucose",
   "metadata": {},
   "source": [
    "From list"
   ]
  },
  {
   "cell_type": "code",
   "execution_count": null,
   "id": "tutorial-warner",
   "metadata": {},
   "outputs": [],
   "source": [
    "user_profile = [\n",
    "    {\"id\": 101, \"gender\": \"L\", \"age\": 20, \"last education\": \"high school\", \"is_married\": True},\n",
    "    {\"id\": 102, \"gender\": \"P\", \"age\": 18, \"last education\": \"middle school\", \"is_married\": False},\n",
    "    {\"id\": 103, \"gender\": \"L\", \"age\": 19, \"last education\": \"high school\", \"is_married\": True},\n",
    "    {\"id\": 104, \"gender\": \"P\", \"age\": 28, \"last education\": \"master's degree\", \"is_married\": False},\n",
    "    {\"id\": 105, \"gender\": None, \"age\": 21, \"last education\": \"bachelor's degree\", \"is_married\": True}\n",
    "]"
   ]
  },
  {
   "cell_type": "code",
   "execution_count": null,
   "id": "charming-rendering",
   "metadata": {},
   "outputs": [],
   "source": [
    "# YOUR CODE\n"
   ]
  },
  {
   "cell_type": "markdown",
   "id": "gentle-collar",
   "metadata": {},
   "source": [
    "From list"
   ]
  },
  {
   "cell_type": "code",
   "execution_count": null,
   "id": "pleasant-sally",
   "metadata": {},
   "outputs": [],
   "source": [
    "number_list_only = [\n",
    "    [101,\"L\",20,'high school', True], \n",
    "    [102,'P',18,'middle school', False],\n",
    "    [103,'L',19,'high school', True],\n",
    "    [104,'P',28,\"master's degree\", False],\n",
    "    [105,None,21,\"bachelor's degree\", True],\n",
    "]"
   ]
  },
  {
   "cell_type": "code",
   "execution_count": null,
   "id": "after-thermal",
   "metadata": {},
   "outputs": [],
   "source": [
    "# YOUR CODE\n"
   ]
  },
  {
   "cell_type": "markdown",
   "id": "lasting-vitamin",
   "metadata": {},
   "source": [
    "From dictionary"
   ]
  },
  {
   "cell_type": "code",
   "execution_count": null,
   "id": "trying-interaction",
   "metadata": {},
   "outputs": [],
   "source": [
    "user_profile_dict = {\n",
    "    'id': [101,102,103,104,105],\n",
    "    'gender': [\"L\", \"P\", \"L\", \"P\", None],\n",
    "    'last education': [\"high school\", \"middle school\", \"high school\", \"master's degree\", \"bachelor's degree\"],\n",
    "    'is_married': [True, False, True, False, True]\n",
    "}"
   ]
  },
  {
   "cell_type": "code",
   "execution_count": null,
   "id": "impressed-albania",
   "metadata": {},
   "outputs": [],
   "source": [
    "# YOUR CODE\n"
   ]
  },
  {
   "cell_type": "markdown",
   "id": "instant-release",
   "metadata": {},
   "source": [
    "### Basic Functionalities"
   ]
  },
  {
   "cell_type": "code",
   "execution_count": null,
   "id": "random-saudi",
   "metadata": {},
   "outputs": [],
   "source": [
    "d_data.head()"
   ]
  },
  {
   "cell_type": "code",
   "execution_count": null,
   "id": "living-jewel",
   "metadata": {},
   "outputs": [],
   "source": [
    "d_data.tail()"
   ]
  },
  {
   "cell_type": "code",
   "execution_count": null,
   "id": "terminal-circulation",
   "metadata": {},
   "outputs": [],
   "source": [
    "d_data.shape"
   ]
  },
  {
   "cell_type": "code",
   "execution_count": null,
   "id": "amateur-rainbow",
   "metadata": {},
   "outputs": [],
   "source": [
    "d_data.dtypes"
   ]
  },
  {
   "cell_type": "markdown",
   "id": "civic-allocation",
   "metadata": {},
   "source": [
    "Statistical descriptive numeric columns"
   ]
  },
  {
   "cell_type": "code",
   "execution_count": null,
   "id": "wicked-drove",
   "metadata": {},
   "outputs": [],
   "source": [
    "# YOUR CODE\n"
   ]
  },
  {
   "cell_type": "code",
   "execution_count": null,
   "id": "soviet-giving",
   "metadata": {},
   "outputs": [],
   "source": [
    "# YOUR CODE\n"
   ]
  },
  {
   "cell_type": "markdown",
   "id": "lesbian-allowance",
   "metadata": {},
   "source": [
    "Counting missing values"
   ]
  },
  {
   "cell_type": "code",
   "execution_count": null,
   "id": "approximate-dakota",
   "metadata": {},
   "outputs": [],
   "source": [
    "# YOUR CODE\n"
   ]
  },
  {
   "cell_type": "markdown",
   "id": "liberal-trail",
   "metadata": {},
   "source": [
    "### Fill Missing Values"
   ]
  },
  {
   "cell_type": "markdown",
   "id": "gorgeous-drunk",
   "metadata": {},
   "source": [
    "by `Series.fillna(value)` \\\n",
    "by `DataFrame.fillna(value)`"
   ]
  },
  {
   "cell_type": "code",
   "execution_count": null,
   "id": "eight-currency",
   "metadata": {},
   "outputs": [],
   "source": [
    "# YOUR CODE\n"
   ]
  },
  {
   "cell_type": "code",
   "execution_count": null,
   "id": "favorite-florida",
   "metadata": {},
   "outputs": [],
   "source": [
    "# YOUR CODE\n"
   ]
  },
  {
   "cell_type": "markdown",
   "id": "threaded-supervisor",
   "metadata": {},
   "source": [
    "### Type Casting"
   ]
  },
  {
   "cell_type": "markdown",
   "id": "stone-watershed",
   "metadata": {},
   "source": [
    "https://pandas.pydata.org/pandas-docs/stable/user_guide/basics.html#basics-dtypes\n",
    "\n",
    "using `DataFrame.astype({'col': int, 'col2': str})` \\\n",
    "using `Series.astype(int|str|float)`"
   ]
  },
  {
   "cell_type": "markdown",
   "id": "ancient-permission",
   "metadata": {},
   "source": [
    "Let's say we want to change TotalCharges from `str` to `float` \\\n",
    "Replace white space with `None`"
   ]
  },
  {
   "cell_type": "code",
   "execution_count": null,
   "id": "hungry-admission",
   "metadata": {},
   "outputs": [],
   "source": [
    "# YOUR CODE\n"
   ]
  },
  {
   "cell_type": "markdown",
   "id": "outdoor-panic",
   "metadata": {},
   "source": [
    "Change type to float"
   ]
  },
  {
   "cell_type": "code",
   "execution_count": null,
   "id": "capital-encounter",
   "metadata": {},
   "outputs": [],
   "source": [
    "# YOUR CODE\n"
   ]
  },
  {
   "cell_type": "markdown",
   "id": "laughing-interaction",
   "metadata": {},
   "source": [
    "Check the type"
   ]
  },
  {
   "cell_type": "code",
   "execution_count": null,
   "id": "detected-offer",
   "metadata": {},
   "outputs": [],
   "source": [
    "d_data.dtypes"
   ]
  },
  {
   "cell_type": "markdown",
   "id": "sufficient-modification",
   "metadata": {},
   "source": [
    "### Renaming Columns"
   ]
  },
  {
   "cell_type": "code",
   "execution_count": null,
   "id": "irish-wildlife",
   "metadata": {},
   "outputs": [],
   "source": [
    "d_data.head()"
   ]
  },
  {
   "cell_type": "markdown",
   "id": "adult-express",
   "metadata": {},
   "source": [
    "Rename some columns to this\n",
    "\n",
    "'customerID':'customer_id' \\\n",
    "'SeniorCitizen': 'senior_citizen' \\\n",
    "'PhoneService': 'phone_service'"
   ]
  },
  {
   "cell_type": "code",
   "execution_count": null,
   "id": "equipped-stable",
   "metadata": {},
   "outputs": [],
   "source": [
    "# YOUR CODE\n"
   ]
  },
  {
   "cell_type": "code",
   "execution_count": null,
   "id": "proper-notebook",
   "metadata": {},
   "outputs": [],
   "source": [
    "d_data.head()"
   ]
  },
  {
   "cell_type": "markdown",
   "id": "intended-digit",
   "metadata": {},
   "source": [
    "### Duplicate Data"
   ]
  },
  {
   "cell_type": "markdown",
   "id": "mediterranean-strand",
   "metadata": {},
   "source": [
    "find duplicate entries using `DataFrame.duplicated()` \\\n",
    "In this case we remove duplicate by customer_id and keep the first row"
   ]
  },
  {
   "cell_type": "code",
   "execution_count": null,
   "id": "naked-spokesman",
   "metadata": {},
   "outputs": [],
   "source": [
    "# YOUR CODE\n",
    "# using duplicated()\n"
   ]
  },
  {
   "cell_type": "code",
   "execution_count": null,
   "id": "surgical-confusion",
   "metadata": {},
   "outputs": [],
   "source": [
    "# YOUR CODE\n",
    "# using drop_duplicates\n"
   ]
  },
  {
   "cell_type": "code",
   "execution_count": null,
   "id": "arbitrary-nancy",
   "metadata": {},
   "outputs": [],
   "source": [
    "# YOUR CODE\n",
    "# check shape\n"
   ]
  },
  {
   "cell_type": "markdown",
   "id": "eastern-richmond",
   "metadata": {},
   "source": [
    "### Slicing\n",
    "\n",
    "slicing and dicing in Pandas can be done using `.loc` `.iloc` `.at` `.iat` or just bracket"
   ]
  },
  {
   "cell_type": "markdown",
   "id": "provincial-pressing",
   "metadata": {},
   "source": [
    "Slice the dataframe for the first five row and select `gender`, `senior_citizen`, and `partner`"
   ]
  },
  {
   "cell_type": "code",
   "execution_count": null,
   "id": "hindu-edinburgh",
   "metadata": {},
   "outputs": [],
   "source": [
    "# YOUR CODE\n"
   ]
  },
  {
   "cell_type": "markdown",
   "id": "published-tomato",
   "metadata": {},
   "source": [
    "Slice the dataframe by using `gender` columns that has value `Female`"
   ]
  },
  {
   "cell_type": "code",
   "execution_count": null,
   "id": "pleased-bacteria",
   "metadata": {},
   "outputs": [],
   "source": [
    "d_data.gender.unique()"
   ]
  },
  {
   "cell_type": "code",
   "execution_count": null,
   "id": "anticipated-remainder",
   "metadata": {},
   "outputs": [],
   "source": [
    "# YOUR CODE\n"
   ]
  },
  {
   "cell_type": "markdown",
   "id": "voluntary-space",
   "metadata": {},
   "source": [
    "### Assignin new columns and replace"
   ]
  },
  {
   "cell_type": "code",
   "execution_count": null,
   "id": "visible-deadline",
   "metadata": {},
   "outputs": [],
   "source": [
    "# YOUR CODE\n"
   ]
  },
  {
   "cell_type": "code",
   "execution_count": null,
   "id": "minor-biology",
   "metadata": {},
   "outputs": [],
   "source": [
    "d_data.head()"
   ]
  },
  {
   "cell_type": "markdown",
   "id": "turkish-easter",
   "metadata": {},
   "source": [
    "Replace values\n",
    "- Replace values `No` to `0` in SeniorCitizen"
   ]
  },
  {
   "cell_type": "code",
   "execution_count": null,
   "id": "tutorial-starter",
   "metadata": {},
   "outputs": [],
   "source": [
    "d_data.senior_citizen.unique()"
   ]
  },
  {
   "cell_type": "code",
   "execution_count": null,
   "id": "novel-toner",
   "metadata": {},
   "outputs": [],
   "source": [
    "# YOUR CODE\n"
   ]
  },
  {
   "cell_type": "markdown",
   "id": "joined-corrections",
   "metadata": {},
   "source": [
    "- Replace Values Internet Connection `No` to `Wireless`"
   ]
  },
  {
   "cell_type": "code",
   "execution_count": null,
   "id": "quick-behalf",
   "metadata": {},
   "outputs": [],
   "source": [
    "d_data.InternetService.unique()"
   ]
  },
  {
   "cell_type": "code",
   "execution_count": null,
   "id": "czech-stephen",
   "metadata": {},
   "outputs": [],
   "source": [
    "# YOUR CODE\n"
   ]
  },
  {
   "cell_type": "code",
   "execution_count": null,
   "id": "final-finnish",
   "metadata": {},
   "outputs": [],
   "source": [
    "d_data.head()"
   ]
  },
  {
   "cell_type": "markdown",
   "id": "fossil-fireplace",
   "metadata": {},
   "source": [
    "### Save latest data to csv for the next day"
   ]
  },
  {
   "cell_type": "code",
   "execution_count": null,
   "id": "starting-bedroom",
   "metadata": {},
   "outputs": [],
   "source": [
    "d_data.to_csv(\"telcom_user_extended_day2.csv\", index=False)"
   ]
  }
 ],
 "metadata": {
  "kernelspec": {
   "display_name": "Python 3",
   "language": "python",
   "name": "python3"
  },
  "language_info": {
   "codemirror_mode": {
    "name": "ipython",
    "version": 3
   },
   "file_extension": ".py",
   "mimetype": "text/x-python",
   "name": "python",
   "nbconvert_exporter": "python",
   "pygments_lexer": "ipython3",
   "version": "3.7.3"
  }
 },
 "nbformat": 4,
 "nbformat_minor": 5
}

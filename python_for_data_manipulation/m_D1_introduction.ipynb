{
 "cells": [
  {
   "cell_type": "markdown",
   "id": "secondary-manual",
   "metadata": {},
   "source": [
    "# Data Manipulation using Pandas"
   ]
  },
  {
   "cell_type": "markdown",
   "id": "suffering-damages",
   "metadata": {},
   "source": [
    "Author: Andreas Chandra \\\n",
    "[Email](mailto:andreas@jakartaresearch.com) [Github](https://github.com/andreaschandra) [Blog](https://datafolksid.xyz/andreas)"
   ]
  },
  {
   "cell_type": "markdown",
   "id": "continuing-discretion",
   "metadata": {},
   "source": [
    "## Contents"
   ]
  },
  {
   "cell_type": "markdown",
   "id": "ambient-retail",
   "metadata": {},
   "source": [
    "Day 1\n",
    "- A Brief Overview of Pandas\n",
    "- Read/Write Pandas\n",
    "- Creating DataFrame from Dict/List\n",
    "- Basic Functionalities and Attributes (Head, Tail, Dtype, Shape, Describe, Missing Values)\n",
    "- Type Casting\n",
    "- Renaming Column\n",
    "- Slicing and Dicing DataFrame (Filtering)\n",
    "\n",
    "Day 2\n",
    "- Reindexing\n",
    "- Dropping and Poping\n",
    "- Duplicate data\n",
    "- Numeric Calculation\n",
    "- String Operation\n",
    "\n",
    "Day 3\n",
    "- Sorting\n",
    "- Grouping\n",
    "- Pandas Apply and Map Function\n",
    "- Appending, Joining, Merging, Concatenating 2 or more DataFrame\n",
    "- Pivot and Stack\n",
    "\n",
    "Day 4\n",
    "- Brief of Timeseries\n",
    "- Window Function\n",
    "- Basic Plotting"
   ]
  },
  {
   "cell_type": "markdown",
   "id": "contrary-partition",
   "metadata": {},
   "source": [
    "## Day 1"
   ]
  },
  {
   "cell_type": "markdown",
   "id": "expressed-warren",
   "metadata": {},
   "source": [
    "### Overview of Pandas"
   ]
  },
  {
   "cell_type": "markdown",
   "id": "egyptian-article",
   "metadata": {},
   "source": [
    "pandas is a fast, powerful, flexible and easy to use open source data analysis and manipulation tool,\n",
    "built on top of the Python programming language."
   ]
  },
  {
   "cell_type": "markdown",
   "id": "crazy-correlation",
   "metadata": {},
   "source": [
    "Installation \\\n",
    "`pip install pandas`\n",
    "\n",
    "Repo: https://github.com/pandas-dev/pandas"
   ]
  },
  {
   "cell_type": "code",
   "execution_count": null,
   "id": "naughty-saskatchewan",
   "metadata": {},
   "outputs": [],
   "source": [
    "# Import the library\n",
    "import pandas as pd"
   ]
  },
  {
   "cell_type": "markdown",
   "id": "administrative-migration",
   "metadata": {},
   "source": [
    "### Read/Write Functions\n",
    "\n",
    "https://pandas.pydata.org/pandas-docs/stable/user_guide/io.html\n",
    "\n",
    "Common read functions \\\n",
    "`read_csv()` `read_excel()` `read_table()` `read_json()`"
   ]
  },
  {
   "cell_type": "code",
   "execution_count": null,
   "id": "protected-jurisdiction",
   "metadata": {},
   "outputs": [],
   "source": [
    "d_data = pd.read_csv(\"telcom_user_extended.csv\")"
   ]
  },
  {
   "cell_type": "markdown",
   "id": "organized-capital",
   "metadata": {},
   "source": [
    "Common write functions \\\n",
    "`to_csv` `to_json` `to_excel`"
   ]
  },
  {
   "cell_type": "code",
   "execution_count": null,
   "id": "fourth-marijuana",
   "metadata": {},
   "outputs": [],
   "source": [
    "d_data.to_csv(\"telecom_users_2.csv\", index=False)"
   ]
  },
  {
   "cell_type": "markdown",
   "id": "owned-walter",
   "metadata": {},
   "source": [
    "### Creating DataFrame from List/Dictionary"
   ]
  },
  {
   "cell_type": "markdown",
   "id": "political-shelf",
   "metadata": {},
   "source": [
    "From list"
   ]
  },
  {
   "cell_type": "code",
   "execution_count": null,
   "id": "exposed-celtic",
   "metadata": {},
   "outputs": [],
   "source": [
    "user_profile = [\n",
    "    {\"id\": 101, \"gender\": \"L\", \"age\": 20, \"last education\": \"high school\", \"is_married\": True},\n",
    "    {\"id\": 102, \"gender\": \"P\", \"age\": 18, \"last education\": \"middle school\", \"is_married\": False},\n",
    "    {\"id\": 103, \"gender\": \"L\", \"age\": 19, \"last education\": \"high school\", \"is_married\": True},\n",
    "    {\"id\": 104, \"gender\": \"P\", \"age\": 28, \"last education\": \"master's degree\", \"is_married\": False},\n",
    "    {\"id\": 105, \"gender\": None, \"age\": 21, \"last education\": \"bachelor's degree\", \"is_married\": True}\n",
    "]"
   ]
  },
  {
   "cell_type": "code",
   "execution_count": null,
   "id": "prerequisite-corrections",
   "metadata": {},
   "outputs": [],
   "source": [
    "pd.DataFrame(user_profile)"
   ]
  },
  {
   "cell_type": "markdown",
   "id": "verbal-cooler",
   "metadata": {},
   "source": [
    "From list"
   ]
  },
  {
   "cell_type": "code",
   "execution_count": null,
   "id": "related-worse",
   "metadata": {},
   "outputs": [],
   "source": [
    "number_list_only = [\n",
    "    [101,\"L\",20,'high school', True], \n",
    "    [102,'P',18,'middle school', False],\n",
    "    [103,'L',19,'high school', True],\n",
    "    [104,'P',28,\"master's degree\", False],\n",
    "    [105,None,21,\"bachelor's degree\", True],\n",
    "]"
   ]
  },
  {
   "cell_type": "code",
   "execution_count": null,
   "id": "comprehensive-struggle",
   "metadata": {},
   "outputs": [],
   "source": [
    "pd.DataFrame(data=number_list_only, columns=[\"id\", \"gender\", \"age\", \"last education\", 'is_married'])"
   ]
  },
  {
   "cell_type": "markdown",
   "id": "stupid-stress",
   "metadata": {},
   "source": [
    "From dictionary"
   ]
  },
  {
   "cell_type": "code",
   "execution_count": null,
   "id": "prospective-switch",
   "metadata": {},
   "outputs": [],
   "source": [
    "user_profile_dict = {\n",
    "    'id': [101,102,103,104,105],\n",
    "    'gender': [\"L\", \"P\", \"L\", \"P\", None],\n",
    "    'last education': [\"high school\", \"middle school\", \"high school\", \"master's degree\", \"bachelor's degree\"],\n",
    "    'is_married': [True, False, True, False, True]\n",
    "}"
   ]
  },
  {
   "cell_type": "code",
   "execution_count": null,
   "id": "premium-passenger",
   "metadata": {},
   "outputs": [],
   "source": [
    "pd.DataFrame(user_profile_dict)"
   ]
  },
  {
   "cell_type": "markdown",
   "id": "subject-japanese",
   "metadata": {},
   "source": [
    "### Basic Functionalities"
   ]
  },
  {
   "cell_type": "code",
   "execution_count": null,
   "id": "attractive-rings",
   "metadata": {},
   "outputs": [],
   "source": [
    "d_data.head()"
   ]
  },
  {
   "cell_type": "code",
   "execution_count": null,
   "id": "italian-point",
   "metadata": {},
   "outputs": [],
   "source": [
    "d_data.tail()"
   ]
  },
  {
   "cell_type": "code",
   "execution_count": null,
   "id": "possible-relaxation",
   "metadata": {},
   "outputs": [],
   "source": [
    "d_data.shape"
   ]
  },
  {
   "cell_type": "code",
   "execution_count": null,
   "id": "governmental-desire",
   "metadata": {},
   "outputs": [],
   "source": [
    "d_data.dtypes"
   ]
  },
  {
   "cell_type": "markdown",
   "id": "rural-timber",
   "metadata": {},
   "source": [
    "Statistical descriptive numeric columns"
   ]
  },
  {
   "cell_type": "code",
   "execution_count": null,
   "id": "featured-integer",
   "metadata": {},
   "outputs": [],
   "source": [
    "d_data.describe()"
   ]
  },
  {
   "cell_type": "code",
   "execution_count": null,
   "id": "muslim-pantyhose",
   "metadata": {},
   "outputs": [],
   "source": [
    "d_data.info()"
   ]
  },
  {
   "cell_type": "markdown",
   "id": "cordless-spokesman",
   "metadata": {},
   "source": [
    "Counting missing values"
   ]
  },
  {
   "cell_type": "code",
   "execution_count": null,
   "id": "surface-patient",
   "metadata": {},
   "outputs": [],
   "source": [
    "d_data.isna().sum()"
   ]
  },
  {
   "cell_type": "markdown",
   "id": "induced-leone",
   "metadata": {},
   "source": [
    "### Fill Missing Values"
   ]
  },
  {
   "cell_type": "markdown",
   "id": "rocky-testament",
   "metadata": {},
   "source": [
    "by `Series.fillna(value)` \\\n",
    "by `DataFrame.fillna(value)`"
   ]
  },
  {
   "cell_type": "code",
   "execution_count": null,
   "id": "resident-money",
   "metadata": {},
   "outputs": [],
   "source": [
    "d_data.Partner.fillna('No', inplace=True)"
   ]
  },
  {
   "cell_type": "code",
   "execution_count": null,
   "id": "existing-worse",
   "metadata": {},
   "outputs": [],
   "source": [
    "d_data.Partner.isna().sum()"
   ]
  },
  {
   "cell_type": "markdown",
   "id": "toxic-advocacy",
   "metadata": {},
   "source": [
    "### Type Casting"
   ]
  },
  {
   "cell_type": "markdown",
   "id": "tropical-pressing",
   "metadata": {},
   "source": [
    "https://pandas.pydata.org/pandas-docs/stable/user_guide/basics.html#basics-dtypes\n",
    "\n",
    "using `DataFrame.astype({'col': int, 'col2': str})` \\\n",
    "using `Series.astype(int|str|float)`"
   ]
  },
  {
   "cell_type": "code",
   "execution_count": null,
   "id": "traditional-working",
   "metadata": {},
   "outputs": [],
   "source": [
    "d_data.TotalCharges = d_data.TotalCharges.replace(' ', None)"
   ]
  },
  {
   "cell_type": "code",
   "execution_count": null,
   "id": "skilled-festival",
   "metadata": {},
   "outputs": [],
   "source": [
    "d_data.TotalCharges = d_data.TotalCharges.astype(float)"
   ]
  },
  {
   "cell_type": "code",
   "execution_count": null,
   "id": "neural-intensity",
   "metadata": {},
   "outputs": [],
   "source": [
    "d_data.dtypes"
   ]
  },
  {
   "cell_type": "markdown",
   "id": "aerial-spell",
   "metadata": {},
   "source": [
    "### Renaming Columns"
   ]
  },
  {
   "cell_type": "code",
   "execution_count": null,
   "id": "spare-letters",
   "metadata": {},
   "outputs": [],
   "source": [
    "d_data.head()"
   ]
  },
  {
   "cell_type": "code",
   "execution_count": null,
   "id": "intensive-evanescence",
   "metadata": {},
   "outputs": [],
   "source": [
    "d_data.rename(columns={'customerID':'customer_id',\n",
    "                       'SeniorCitizen': 'senior_citizen', \n",
    "                       'PhoneService': 'phone_service'}, inplace=True)"
   ]
  },
  {
   "cell_type": "code",
   "execution_count": null,
   "id": "loaded-worry",
   "metadata": {},
   "outputs": [],
   "source": [
    "d_data.head()"
   ]
  },
  {
   "cell_type": "markdown",
   "id": "bacterial-arabic",
   "metadata": {},
   "source": [
    "### Duplicate Data"
   ]
  },
  {
   "cell_type": "markdown",
   "id": "alien-repository",
   "metadata": {},
   "source": [
    "find duplicate entries using `DataFrame.duplicated()`"
   ]
  },
  {
   "cell_type": "code",
   "execution_count": null,
   "id": "identified-connection",
   "metadata": {},
   "outputs": [],
   "source": [
    "d_data[d_data.duplicated(subset='customer_id')]"
   ]
  },
  {
   "cell_type": "code",
   "execution_count": null,
   "id": "leading-travel",
   "metadata": {},
   "outputs": [],
   "source": [
    "d_data.drop_duplicates(subset='customer_id', inplace=True)"
   ]
  },
  {
   "cell_type": "code",
   "execution_count": null,
   "id": "legitimate-repository",
   "metadata": {},
   "outputs": [],
   "source": [
    "d_data.shape"
   ]
  },
  {
   "cell_type": "markdown",
   "id": "dimensional-reminder",
   "metadata": {},
   "source": [
    "### Slicing\n",
    "\n",
    "slicing and dicing in Pandas can be done using `.loc` `.iloc` `.at` `.iat` or just bracket"
   ]
  },
  {
   "cell_type": "code",
   "execution_count": null,
   "id": "international-delaware",
   "metadata": {},
   "outputs": [],
   "source": [
    "d_data.loc[:5, ['gender', 'senior_citizen', 'Partner']]"
   ]
  },
  {
   "cell_type": "code",
   "execution_count": null,
   "id": "decreased-vietnam",
   "metadata": {},
   "outputs": [],
   "source": [
    "d_data.gender.unique()"
   ]
  },
  {
   "cell_type": "code",
   "execution_count": null,
   "id": "miniature-despite",
   "metadata": {},
   "outputs": [],
   "source": [
    "d_data[d_data.gender == 'Female']"
   ]
  },
  {
   "cell_type": "markdown",
   "id": "controlled-disclaimer",
   "metadata": {},
   "source": [
    "### Assignin new columns and replace"
   ]
  },
  {
   "cell_type": "code",
   "execution_count": null,
   "id": "central-haiti",
   "metadata": {},
   "outputs": [],
   "source": [
    "d_data['is_married'] = 'No'"
   ]
  },
  {
   "cell_type": "code",
   "execution_count": null,
   "id": "swedish-strength",
   "metadata": {},
   "outputs": [],
   "source": [
    "d_data.head()"
   ]
  },
  {
   "cell_type": "markdown",
   "id": "mighty-tunnel",
   "metadata": {},
   "source": [
    "Replace values\n",
    "- Replace values `No` to `0` in SeniorCitizen"
   ]
  },
  {
   "cell_type": "code",
   "execution_count": null,
   "id": "creative-speed",
   "metadata": {},
   "outputs": [],
   "source": [
    "d_data.senior_citizen.unique()"
   ]
  },
  {
   "cell_type": "code",
   "execution_count": null,
   "id": "secret-homework",
   "metadata": {},
   "outputs": [],
   "source": [
    "d_data.loc[d_data.senior_citizen=='No', 'senior_citizen'] = 0"
   ]
  },
  {
   "cell_type": "markdown",
   "id": "beautiful-threat",
   "metadata": {},
   "source": [
    "- Replace Values Internet Connection `No` to `Wireless`"
   ]
  },
  {
   "cell_type": "code",
   "execution_count": null,
   "id": "southwest-nickel",
   "metadata": {},
   "outputs": [],
   "source": [
    "d_data.InternetService.unique()"
   ]
  },
  {
   "cell_type": "code",
   "execution_count": null,
   "id": "foreign-treasury",
   "metadata": {},
   "outputs": [],
   "source": [
    "d_data.loc[d_data.InternetService=='No', 'InternetService'] = 'Wireless'"
   ]
  },
  {
   "cell_type": "code",
   "execution_count": null,
   "id": "stuck-equilibrium",
   "metadata": {},
   "outputs": [],
   "source": [
    "d_data.head()"
   ]
  },
  {
   "cell_type": "markdown",
   "id": "shaped-british",
   "metadata": {},
   "source": [
    "### Save latest data to csv for the next day"
   ]
  },
  {
   "cell_type": "code",
   "execution_count": null,
   "id": "reflected-latest",
   "metadata": {},
   "outputs": [],
   "source": [
    "d_data.to_csv(\"telcom_user_extended_day2.csv\", index=False)"
   ]
  },
  {
   "cell_type": "code",
   "execution_count": null,
   "id": "interested-antarctica",
   "metadata": {},
   "outputs": [],
   "source": []
  }
 ],
 "metadata": {
  "kernelspec": {
   "display_name": "Python 3",
   "language": "python",
   "name": "python3"
  },
  "language_info": {
   "codemirror_mode": {
    "name": "ipython",
    "version": 3
   },
   "file_extension": ".py",
   "mimetype": "text/x-python",
   "name": "python",
   "nbconvert_exporter": "python",
   "pygments_lexer": "ipython3",
   "version": "3.7.3"
  }
 },
 "nbformat": 4,
 "nbformat_minor": 5
}
